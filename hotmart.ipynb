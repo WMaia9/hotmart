{
  "cells": [
    {
      "cell_type": "markdown",
      "metadata": {
        "id": "-ihSVv4RkaKy"
      },
      "source": [
        "# Ánalise de Dados Hotmart"
      ]
    },
    {
      "cell_type": "markdown",
      "metadata": {
        "id": "JVcSp0xhkaK1"
      },
      "source": [
        "## 1. Introdução\n",
        "\n",
        "Esse trabalho é parte de um desafio proposto pela empresa Hotmart.\n",
        " \n",
        "Hotmart é uma empresa global de tecnologia e educação, com uma plataforma online para distribuição e venda de produtos digitais.  \n",
        " \n",
        "A análise deste trabalho é baseada em uma amostra de compras feita na Hotmart no ano de 2016. Tratam-se de 1,5 milhão de registros de compras realizados na plataforma."
      ]
    },
    {
      "cell_type": "markdown",
      "metadata": {
        "id": "Atm38oBgkaK1"
      },
      "source": [
        "## 2. Dados\n",
        "\n",
        "O primeiro passo em qualquer análise entender os dados. Vamos dar uma olhada no dataset disponibilizado. "
      ]
    },
    {
      "cell_type": "code",
      "execution_count": null,
      "metadata": {
        "id": "cEsc31KOkaK2"
      },
      "outputs": [],
      "source": [
        "# importando as bibliotecas que serão utilizados na análise\n",
        "import pandas as pd\n",
        "import numpy as np\n",
        "from sklearn.preprocessing import MinMaxScaler\n",
        "\n",
        "import matplotlib.pyplot as plt\n",
        "import seaborn as sns\n",
        "plt.rcParams['figure.figsize'] = [10, 5]\n",
        "%matplotlib inline\n",
        "\n",
        "from statsmodels.graphics.tsaplots import plot_acf\n",
        "\n",
        "import warnings\n",
        "warnings.filterwarnings('ignore')"
      ]
    },
    {
      "cell_type": "markdown",
      "metadata": {
        "id": "k6gd7RgQkaK3"
      },
      "source": [
        "Os dados são disponibilizados pela Hotmart e se trata de uma amostra de compras feita pela Hotmart em 2016. Vamos começar carregando os dados e conferindo cada um deles e seu tipo."
      ]
    },
    {
      "cell_type": "code",
      "execution_count": null,
      "metadata": {
        "id": "u9krRQpnkaK3",
        "outputId": "f88c5605-c081-4dc4-c499-dd28acb5c798"
      },
      "outputs": [
        {
          "name": "stdout",
          "output_type": "stream",
          "text": [
            "<class 'pandas.core.frame.DataFrame'>\n",
            "RangeIndex: 1599829 entries, 0 to 1599828\n",
            "Data columns (total 14 columns):\n",
            " #   Column                           Non-Null Count    Dtype  \n",
            "---  ------                           --------------    -----  \n",
            " 0   purchase_id                      1599829 non-null  int64  \n",
            " 1   product_id                       1599828 non-null  float64\n",
            " 2   affiliate_id                     1599828 non-null  float64\n",
            " 3   producer_id                      1599828 non-null  float64\n",
            " 4   buyer_id                         1599828 non-null  float64\n",
            " 5   purchase_date                    1599828 non-null  object \n",
            " 6   product_creation_date            1599828 non-null  object \n",
            " 7   product_category                 1599828 non-null  object \n",
            " 8   product_niche                    1599828 non-null  object \n",
            " 9   purchase_value                   1599828 non-null  float64\n",
            " 10  affiliate_commission_percentual  1599828 non-null  float64\n",
            " 11  purchase_device                  1599828 non-null  object \n",
            " 12  purchase_origin                  1599828 non-null  object \n",
            " 13  is_origin_page_social_network    1599829 non-null  object \n",
            "dtypes: float64(6), int64(1), object(7)\n",
            "memory usage: 170.9+ MB\n"
          ]
        }
      ],
      "source": [
        "df = pd.read_csv('sales_table.csv', sep=';')\n",
        "df.info()"
      ]
    },
    {
      "cell_type": "markdown",
      "metadata": {
        "id": "Au75Et15kaK4"
      },
      "source": [
        "Podemos ver que o dataset tem 1599829 amostras e 14 colunas. De acordo com a Hotmart, cada campo significa:\n",
        "\n",
        "● purchase_id: Identificação da compra na Hotmart;\n",
        "\n",
        "● product_id: Identificação do produto na Hotmart;\n",
        "\n",
        "● affiliate_id: Identificação do afiliado na Hotmart;\n",
        "\n",
        "● producer_id: Identificação do produtor na Hotmart;\n",
        "\n",
        "● buyer_id: Identificação do comprador na Hotmart;\n",
        "\n",
        "● purchase_date: Data e hora em que a compra foi realizada;\n",
        "\n",
        "● product_creation_date: Data e hora em que o produto foi criado na Hotmart;\n",
        "\n",
        "● product_category: categoria do produto na Hotmart. Exemplo: e-book, software, curso online, e-tickets, etc.;\n",
        "\n",
        "● product_niche: nicho de mercado que o produto faz parte. Exemplo: educação, saúde e bem-estar, sexualidade, etc.;\n",
        "\n",
        "● purchase_value: valor da compra. Esse dado, assim como nicho e categoria foi codificado para manter a confidencialidade. O valor apresentado no dataset é o z-score do valor real;\n",
        "\n",
        "● affiliate_commission_percentual: percentual de comissão que o afiliado receberá da compra;\n",
        "● purchase_device: tipo de dispositivo utilizado no momento da compra, como: Desktop, Mobile, Tablet, ou Outros;\n",
        "\n",
        "● purchase_origin: endereço do site do qual a pessoa veio antes da compra. Por exemplo, se uma pessoa veio do Facebook, Youtube, ou até mesmo de outra página no site oficial do produto;\n",
        "\n",
        "● is_origin_page_social_network: informa se essa compra veio de uma URL do Facebook, Youtube, Instagram, Pinterest, ou Twitter.\n",
        "\n"
      ]
    },
    {
      "cell_type": "markdown",
      "metadata": {
        "id": "9lJGMslKkaK5"
      },
      "source": [
        "## 3. Exploratory Data Analysis (EDA)"
      ]
    },
    {
      "cell_type": "markdown",
      "metadata": {
        "id": "fMoN3URkkaK5"
      },
      "source": [
        "Vamos olhadar agora as primeiras 5 linhas do dataset:"
      ]
    },
    {
      "cell_type": "code",
      "execution_count": null,
      "metadata": {
        "id": "Krn5246dkaK6",
        "outputId": "a9e43e44-c893-497a-f999-01a5978a9d5a"
      },
      "outputs": [
        {
          "data": {
            "text/html": [
              "<div>\n",
              "<style scoped>\n",
              "    .dataframe tbody tr th:only-of-type {\n",
              "        vertical-align: middle;\n",
              "    }\n",
              "\n",
              "    .dataframe tbody tr th {\n",
              "        vertical-align: top;\n",
              "    }\n",
              "\n",
              "    .dataframe thead th {\n",
              "        text-align: right;\n",
              "    }\n",
              "</style>\n",
              "<table border=\"1\" class=\"dataframe\">\n",
              "  <thead>\n",
              "    <tr style=\"text-align: right;\">\n",
              "      <th></th>\n",
              "      <th>purchase_id</th>\n",
              "      <th>product_id</th>\n",
              "      <th>affiliate_id</th>\n",
              "      <th>producer_id</th>\n",
              "      <th>buyer_id</th>\n",
              "      <th>purchase_date</th>\n",
              "      <th>product_creation_date</th>\n",
              "      <th>product_category</th>\n",
              "      <th>product_niche</th>\n",
              "      <th>purchase_value</th>\n",
              "      <th>affiliate_commission_percentual</th>\n",
              "      <th>purchase_device</th>\n",
              "      <th>purchase_origin</th>\n",
              "      <th>is_origin_page_social_network</th>\n",
              "    </tr>\n",
              "  </thead>\n",
              "  <tbody>\n",
              "    <tr>\n",
              "      <th>0</th>\n",
              "      <td>0</td>\n",
              "      <td>NaN</td>\n",
              "      <td>NaN</td>\n",
              "      <td>NaN</td>\n",
              "      <td>NaN</td>\n",
              "      <td>NaN</td>\n",
              "      <td>NaN</td>\n",
              "      <td>NaN</td>\n",
              "      <td>NaN</td>\n",
              "      <td>NaN</td>\n",
              "      <td>NaN</td>\n",
              "      <td>NaN</td>\n",
              "      <td>NaN</td>\n",
              "      <td>0</td>\n",
              "    </tr>\n",
              "    <tr>\n",
              "      <th>1</th>\n",
              "      <td>1663958</td>\n",
              "      <td>6640.0</td>\n",
              "      <td>209372.0</td>\n",
              "      <td>116238.0</td>\n",
              "      <td>1200397.0</td>\n",
              "      <td>2016-06-26 09:00:00</td>\n",
              "      <td>2011-03-19 12:47:36</td>\n",
              "      <td>Video</td>\n",
              "      <td>Presentation skills</td>\n",
              "      <td>-0.265</td>\n",
              "      <td>50.0</td>\n",
              "      <td>Smart TV</td>\n",
              "      <td>Origin ef2b</td>\n",
              "      <td>0,0</td>\n",
              "    </tr>\n",
              "    <tr>\n",
              "      <th>2</th>\n",
              "      <td>1677087</td>\n",
              "      <td>2350.0</td>\n",
              "      <td>141418.0</td>\n",
              "      <td>2821.0</td>\n",
              "      <td>1083764.0</td>\n",
              "      <td>2016-06-26 09:00:00</td>\n",
              "      <td>2010-07-04 22:50:15</td>\n",
              "      <td>Podcast</td>\n",
              "      <td>Child psychology</td>\n",
              "      <td>-0.177</td>\n",
              "      <td>60.0</td>\n",
              "      <td>Smart TV</td>\n",
              "      <td>Origin ef2b</td>\n",
              "      <td>0,0</td>\n",
              "    </tr>\n",
              "    <tr>\n",
              "      <th>3</th>\n",
              "      <td>2017360</td>\n",
              "      <td>35669.0</td>\n",
              "      <td>618642.0</td>\n",
              "      <td>618642.0</td>\n",
              "      <td>1436106.0</td>\n",
              "      <td>2016-06-26 09:00:00</td>\n",
              "      <td>2012-06-12 23:59:37</td>\n",
              "      <td>Podcast</td>\n",
              "      <td>Presentation skills</td>\n",
              "      <td>-0.469</td>\n",
              "      <td>0.0</td>\n",
              "      <td>Smart TV</td>\n",
              "      <td>Origin ef2b</td>\n",
              "      <td>0,0</td>\n",
              "    </tr>\n",
              "    <tr>\n",
              "      <th>4</th>\n",
              "      <td>2017379</td>\n",
              "      <td>57998.0</td>\n",
              "      <td>1164511.0</td>\n",
              "      <td>70388.0</td>\n",
              "      <td>1436118.0</td>\n",
              "      <td>2016-06-26 09:00:00</td>\n",
              "      <td>2013-05-07 05:51:31</td>\n",
              "      <td>Podcast</td>\n",
              "      <td>Anxiety management</td>\n",
              "      <td>-0.401</td>\n",
              "      <td>50.0</td>\n",
              "      <td>Smart TV</td>\n",
              "      <td>Origin ef2b</td>\n",
              "      <td>0,0</td>\n",
              "    </tr>\n",
              "  </tbody>\n",
              "</table>\n",
              "</div>"
            ],
            "text/plain": [
              "   purchase_id  product_id  affiliate_id  producer_id   buyer_id  \\\n",
              "0            0         NaN           NaN          NaN        NaN   \n",
              "1      1663958      6640.0      209372.0     116238.0  1200397.0   \n",
              "2      1677087      2350.0      141418.0       2821.0  1083764.0   \n",
              "3      2017360     35669.0      618642.0     618642.0  1436106.0   \n",
              "4      2017379     57998.0     1164511.0      70388.0  1436118.0   \n",
              "\n",
              "         purchase_date product_creation_date product_category  \\\n",
              "0                  NaN                   NaN              NaN   \n",
              "1  2016-06-26 09:00:00   2011-03-19 12:47:36            Video   \n",
              "2  2016-06-26 09:00:00   2010-07-04 22:50:15          Podcast   \n",
              "3  2016-06-26 09:00:00   2012-06-12 23:59:37          Podcast   \n",
              "4  2016-06-26 09:00:00   2013-05-07 05:51:31          Podcast   \n",
              "\n",
              "         product_niche  purchase_value  affiliate_commission_percentual  \\\n",
              "0                  NaN             NaN                              NaN   \n",
              "1  Presentation skills          -0.265                             50.0   \n",
              "2     Child psychology          -0.177                             60.0   \n",
              "3  Presentation skills          -0.469                              0.0   \n",
              "4   Anxiety management          -0.401                             50.0   \n",
              "\n",
              "  purchase_device purchase_origin is_origin_page_social_network  \n",
              "0             NaN             NaN                             0  \n",
              "1        Smart TV     Origin ef2b                           0,0  \n",
              "2        Smart TV     Origin ef2b                           0,0  \n",
              "3        Smart TV     Origin ef2b                           0,0  \n",
              "4        Smart TV     Origin ef2b                           0,0  "
            ]
          },
          "execution_count": 193,
          "metadata": {},
          "output_type": "execute_result"
        }
      ],
      "source": [
        "df.head()"
      ]
    },
    {
      "cell_type": "markdown",
      "metadata": {
        "id": "7I_M0AD8kaK6"
      },
      "source": [
        "Podemos ver que na primeira linha existem valores NaN, o que é um problema para as análises que serão feitas. Vamos então conferir quantas linhas do dataset existem esse com esse tipo de dados."
      ]
    },
    {
      "cell_type": "code",
      "execution_count": null,
      "metadata": {
        "id": "N_OliBgVkaK6",
        "outputId": "2578ed7e-cefc-479b-bf2a-1fd4f04b536e"
      },
      "outputs": [
        {
          "data": {
            "text/plain": [
              "purchase_id                        0\n",
              "product_id                         1\n",
              "affiliate_id                       1\n",
              "producer_id                        1\n",
              "buyer_id                           1\n",
              "purchase_date                      1\n",
              "product_creation_date              1\n",
              "product_category                   1\n",
              "product_niche                      1\n",
              "purchase_value                     1\n",
              "affiliate_commission_percentual    1\n",
              "purchase_device                    1\n",
              "purchase_origin                    1\n",
              "is_origin_page_social_network      0\n",
              "dtype: int64"
            ]
          },
          "execution_count": 194,
          "metadata": {},
          "output_type": "execute_result"
        }
      ],
      "source": [
        "# Conferindo quantos dados são null em cada coluna\n",
        "df.isnull().sum()"
      ]
    },
    {
      "cell_type": "markdown",
      "metadata": {
        "id": "wXMRzhEWkaK6"
      },
      "source": [
        "Podemos ver que existe somente uma linha de dados com dados do tipo NaN, que como já vimos, trata-se da primeira linha do dados. Vamos então remove-los:"
      ]
    },
    {
      "cell_type": "code",
      "execution_count": null,
      "metadata": {
        "id": "QC05y0-pkaK7",
        "outputId": "71ed2cc0-80f3-4e02-c60c-94e4c2ae5109"
      },
      "outputs": [
        {
          "data": {
            "text/plain": [
              "purchase_id                        0\n",
              "product_id                         0\n",
              "affiliate_id                       0\n",
              "producer_id                        0\n",
              "buyer_id                           0\n",
              "purchase_date                      0\n",
              "product_creation_date              0\n",
              "product_category                   0\n",
              "product_niche                      0\n",
              "purchase_value                     0\n",
              "affiliate_commission_percentual    0\n",
              "purchase_device                    0\n",
              "purchase_origin                    0\n",
              "is_origin_page_social_network      0\n",
              "dtype: int64"
            ]
          },
          "execution_count": 195,
          "metadata": {},
          "output_type": "execute_result"
        }
      ],
      "source": [
        "df = df.dropna()\n",
        "df.isnull().sum()"
      ]
    },
    {
      "cell_type": "markdown",
      "metadata": {
        "id": "8JMJcv6dkaK7"
      },
      "source": [
        "### 3.1 - Variáveis Contínuas\n",
        "\n",
        "#### 3.1.2 - purchase_value"
      ]
    },
    {
      "cell_type": "markdown",
      "metadata": {
        "id": "HeNzRbeAkaK7"
      },
      "source": [
        "Agora podemos dar uma olhada geral nos dados numéricos. Da tabela abaixo vemos que a variável purchase_value tem valores negativos, o que não faz sentido para um valor de compra. No entanto, pela descrição, sabemos que ela foi codificada em termos de z score, que nada mais é do que o número de desvios padrões em relação a média de um ponto de informação."
      ]
    },
    {
      "cell_type": "code",
      "execution_count": null,
      "metadata": {
        "id": "RahR_3lbkaK7",
        "outputId": "400ec6d8-bd35-4b93-87db-f78daee716a4"
      },
      "outputs": [
        {
          "data": {
            "text/html": [
              "<div>\n",
              "<style scoped>\n",
              "    .dataframe tbody tr th:only-of-type {\n",
              "        vertical-align: middle;\n",
              "    }\n",
              "\n",
              "    .dataframe tbody tr th {\n",
              "        vertical-align: top;\n",
              "    }\n",
              "\n",
              "    .dataframe thead th {\n",
              "        text-align: right;\n",
              "    }\n",
              "</style>\n",
              "<table border=\"1\" class=\"dataframe\">\n",
              "  <thead>\n",
              "    <tr style=\"text-align: right;\">\n",
              "      <th></th>\n",
              "      <th>purchase_id</th>\n",
              "      <th>product_id</th>\n",
              "      <th>affiliate_id</th>\n",
              "      <th>producer_id</th>\n",
              "      <th>buyer_id</th>\n",
              "      <th>purchase_value</th>\n",
              "      <th>affiliate_commission_percentual</th>\n",
              "    </tr>\n",
              "  </thead>\n",
              "  <tbody>\n",
              "    <tr>\n",
              "      <th>count</th>\n",
              "      <td>1.599828e+06</td>\n",
              "      <td>1.599828e+06</td>\n",
              "      <td>1.599828e+06</td>\n",
              "      <td>1.599828e+06</td>\n",
              "      <td>1.599828e+06</td>\n",
              "      <td>1.599828e+06</td>\n",
              "      <td>1.599828e+06</td>\n",
              "    </tr>\n",
              "    <tr>\n",
              "      <th>mean</th>\n",
              "      <td>1.244546e+07</td>\n",
              "      <td>1.485958e+05</td>\n",
              "      <td>2.297501e+06</td>\n",
              "      <td>2.164480e+06</td>\n",
              "      <td>5.187551e+06</td>\n",
              "      <td>2.024780e-05</td>\n",
              "      <td>7.597402e+00</td>\n",
              "    </tr>\n",
              "    <tr>\n",
              "      <th>std</th>\n",
              "      <td>9.175820e+05</td>\n",
              "      <td>5.554317e+04</td>\n",
              "      <td>2.092656e+06</td>\n",
              "      <td>2.038960e+06</td>\n",
              "      <td>2.199257e+06</td>\n",
              "      <td>9.999806e-01</td>\n",
              "      <td>1.847787e+01</td>\n",
              "    </tr>\n",
              "    <tr>\n",
              "      <th>min</th>\n",
              "      <td>1.663958e+06</td>\n",
              "      <td>4.000000e+00</td>\n",
              "      <td>3.000000e+00</td>\n",
              "      <td>3.000000e+00</td>\n",
              "      <td>6.000000e+01</td>\n",
              "      <td>-5.410000e-01</td>\n",
              "      <td>0.000000e+00</td>\n",
              "    </tr>\n",
              "    <tr>\n",
              "      <th>25%</th>\n",
              "      <td>1.165374e+07</td>\n",
              "      <td>1.121380e+05</td>\n",
              "      <td>4.422410e+05</td>\n",
              "      <td>4.095900e+05</td>\n",
              "      <td>3.730213e+06</td>\n",
              "      <td>-4.530000e-01</td>\n",
              "      <td>0.000000e+00</td>\n",
              "    </tr>\n",
              "    <tr>\n",
              "      <th>50%</th>\n",
              "      <td>1.246849e+07</td>\n",
              "      <td>1.543100e+05</td>\n",
              "      <td>1.690428e+06</td>\n",
              "      <td>1.377289e+06</td>\n",
              "      <td>5.999154e+06</td>\n",
              "      <td>-3.500000e-01</td>\n",
              "      <td>0.000000e+00</td>\n",
              "    </tr>\n",
              "    <tr>\n",
              "      <th>75%</th>\n",
              "      <td>1.323310e+07</td>\n",
              "      <td>1.939340e+05</td>\n",
              "      <td>3.992235e+06</td>\n",
              "      <td>3.776238e+06</td>\n",
              "      <td>6.946337e+06</td>\n",
              "      <td>6.500000e-02</td>\n",
              "      <td>0.000000e+00</td>\n",
              "    </tr>\n",
              "    <tr>\n",
              "      <th>max</th>\n",
              "      <td>1.435720e+07</td>\n",
              "      <td>3.191290e+05</td>\n",
              "      <td>7.700836e+06</td>\n",
              "      <td>9.868481e+06</td>\n",
              "      <td>1.201479e+07</td>\n",
              "      <td>1.245610e+02</td>\n",
              "      <td>1.000000e+02</td>\n",
              "    </tr>\n",
              "  </tbody>\n",
              "</table>\n",
              "</div>"
            ],
            "text/plain": [
              "        purchase_id    product_id  affiliate_id   producer_id      buyer_id  \\\n",
              "count  1.599828e+06  1.599828e+06  1.599828e+06  1.599828e+06  1.599828e+06   \n",
              "mean   1.244546e+07  1.485958e+05  2.297501e+06  2.164480e+06  5.187551e+06   \n",
              "std    9.175820e+05  5.554317e+04  2.092656e+06  2.038960e+06  2.199257e+06   \n",
              "min    1.663958e+06  4.000000e+00  3.000000e+00  3.000000e+00  6.000000e+01   \n",
              "25%    1.165374e+07  1.121380e+05  4.422410e+05  4.095900e+05  3.730213e+06   \n",
              "50%    1.246849e+07  1.543100e+05  1.690428e+06  1.377289e+06  5.999154e+06   \n",
              "75%    1.323310e+07  1.939340e+05  3.992235e+06  3.776238e+06  6.946337e+06   \n",
              "max    1.435720e+07  3.191290e+05  7.700836e+06  9.868481e+06  1.201479e+07   \n",
              "\n",
              "       purchase_value  affiliate_commission_percentual  \n",
              "count    1.599828e+06                     1.599828e+06  \n",
              "mean     2.024780e-05                     7.597402e+00  \n",
              "std      9.999806e-01                     1.847787e+01  \n",
              "min     -5.410000e-01                     0.000000e+00  \n",
              "25%     -4.530000e-01                     0.000000e+00  \n",
              "50%     -3.500000e-01                     0.000000e+00  \n",
              "75%      6.500000e-02                     0.000000e+00  \n",
              "max      1.245610e+02                     1.000000e+02  "
            ]
          },
          "execution_count": 196,
          "metadata": {},
          "output_type": "execute_result"
        }
      ],
      "source": [
        "df.describe()"
      ]
    },
    {
      "cell_type": "code",
      "execution_count": null,
      "metadata": {
        "id": "FRwCK8BWkaK8",
        "outputId": "354fe80c-c311-441c-c5b9-0bbb8a5d2d28"
      },
      "outputs": [
        {
          "data": {
            "image/png": "[encoded data removed]",
            "text/plain": [
              "<Figure size 360x360 with 1 Axes>"
            ]
          },
          "metadata": {
            "needs_background": "light"
          },
          "output_type": "display_data"
        }
      ],
      "source": [
        "ax = sns.displot(data=df, x='purchase_value', kind='hist', bins=2000)\n",
        "ax.set(xlim=(-0.5, 1));"
      ]
    },
    {
      "cell_type": "markdown",
      "metadata": {
        "id": "VlprQx2xkaK8"
      },
      "source": [
        "Olhando graficamente existe uma variação entre -0.5 e 1. Podemos utilizar a técnica de normalização MinMaxScaler e assim transformar o intervalo entre 0 e 1 e dessa forma teremos percentualmente o faturamento."
      ]
    },
    {
      "cell_type": "code",
      "execution_count": null,
      "metadata": {
        "id": "hz59dfIhkaK8"
      },
      "outputs": [],
      "source": [
        "min_max_scaler = MinMaxScaler()\n",
        "df['purchase_value_%'] = min_max_scaler.fit_transform(df[['purchase_value']].values)"
      ]
    },
    {
      "cell_type": "code",
      "execution_count": null,
      "metadata": {
        "id": "tidh0zAQkaK8",
        "outputId": "7fa9d5d8-5194-4ce7-b316-4544d84dfd84"
      },
      "outputs": [
        {
          "data": {
            "text/html": [
              "<div>\n",
              "<style scoped>\n",
              "    .dataframe tbody tr th:only-of-type {\n",
              "        vertical-align: middle;\n",
              "    }\n",
              "\n",
              "    .dataframe tbody tr th {\n",
              "        vertical-align: top;\n",
              "    }\n",
              "\n",
              "    .dataframe thead th {\n",
              "        text-align: right;\n",
              "    }\n",
              "</style>\n",
              "<table border=\"1\" class=\"dataframe\">\n",
              "  <thead>\n",
              "    <tr style=\"text-align: right;\">\n",
              "      <th></th>\n",
              "      <th>purchase_id</th>\n",
              "      <th>product_id</th>\n",
              "      <th>affiliate_id</th>\n",
              "      <th>producer_id</th>\n",
              "      <th>buyer_id</th>\n",
              "      <th>purchase_date</th>\n",
              "      <th>product_creation_date</th>\n",
              "      <th>product_category</th>\n",
              "      <th>product_niche</th>\n",
              "      <th>purchase_value</th>\n",
              "      <th>affiliate_commission_percentual</th>\n",
              "      <th>purchase_device</th>\n",
              "      <th>purchase_origin</th>\n",
              "      <th>is_origin_page_social_network</th>\n",
              "      <th>purchase_value_%</th>\n",
              "    </tr>\n",
              "  </thead>\n",
              "  <tbody>\n",
              "    <tr>\n",
              "      <th>1</th>\n",
              "      <td>1663958</td>\n",
              "      <td>6640.0</td>\n",
              "      <td>209372.0</td>\n",
              "      <td>116238.0</td>\n",
              "      <td>1200397.0</td>\n",
              "      <td>2016-06-26 09:00:00</td>\n",
              "      <td>2011-03-19 12:47:36</td>\n",
              "      <td>Video</td>\n",
              "      <td>Presentation skills</td>\n",
              "      <td>-0.265</td>\n",
              "      <td>50.0</td>\n",
              "      <td>Smart TV</td>\n",
              "      <td>Origin ef2b</td>\n",
              "      <td>0,0</td>\n",
              "      <td>0.002206</td>\n",
              "    </tr>\n",
              "    <tr>\n",
              "      <th>2</th>\n",
              "      <td>1677087</td>\n",
              "      <td>2350.0</td>\n",
              "      <td>141418.0</td>\n",
              "      <td>2821.0</td>\n",
              "      <td>1083764.0</td>\n",
              "      <td>2016-06-26 09:00:00</td>\n",
              "      <td>2010-07-04 22:50:15</td>\n",
              "      <td>Podcast</td>\n",
              "      <td>Child psychology</td>\n",
              "      <td>-0.177</td>\n",
              "      <td>60.0</td>\n",
              "      <td>Smart TV</td>\n",
              "      <td>Origin ef2b</td>\n",
              "      <td>0,0</td>\n",
              "      <td>0.002910</td>\n",
              "    </tr>\n",
              "    <tr>\n",
              "      <th>3</th>\n",
              "      <td>2017360</td>\n",
              "      <td>35669.0</td>\n",
              "      <td>618642.0</td>\n",
              "      <td>618642.0</td>\n",
              "      <td>1436106.0</td>\n",
              "      <td>2016-06-26 09:00:00</td>\n",
              "      <td>2012-06-12 23:59:37</td>\n",
              "      <td>Podcast</td>\n",
              "      <td>Presentation skills</td>\n",
              "      <td>-0.469</td>\n",
              "      <td>0.0</td>\n",
              "      <td>Smart TV</td>\n",
              "      <td>Origin ef2b</td>\n",
              "      <td>0,0</td>\n",
              "      <td>0.000576</td>\n",
              "    </tr>\n",
              "    <tr>\n",
              "      <th>4</th>\n",
              "      <td>2017379</td>\n",
              "      <td>57998.0</td>\n",
              "      <td>1164511.0</td>\n",
              "      <td>70388.0</td>\n",
              "      <td>1436118.0</td>\n",
              "      <td>2016-06-26 09:00:00</td>\n",
              "      <td>2013-05-07 05:51:31</td>\n",
              "      <td>Podcast</td>\n",
              "      <td>Anxiety management</td>\n",
              "      <td>-0.401</td>\n",
              "      <td>50.0</td>\n",
              "      <td>Smart TV</td>\n",
              "      <td>Origin ef2b</td>\n",
              "      <td>0,0</td>\n",
              "      <td>0.001119</td>\n",
              "    </tr>\n",
              "    <tr>\n",
              "      <th>5</th>\n",
              "      <td>2017382</td>\n",
              "      <td>58329.0</td>\n",
              "      <td>1261488.0</td>\n",
              "      <td>221253.0</td>\n",
              "      <td>1386357.0</td>\n",
              "      <td>2016-06-26 09:00:00</td>\n",
              "      <td>2013-05-12 05:12:06</td>\n",
              "      <td>Podcast</td>\n",
              "      <td>Teaching English</td>\n",
              "      <td>-0.452</td>\n",
              "      <td>50.0</td>\n",
              "      <td>Smart TV</td>\n",
              "      <td>Origin ef2b</td>\n",
              "      <td>0,0</td>\n",
              "      <td>0.000711</td>\n",
              "    </tr>\n",
              "  </tbody>\n",
              "</table>\n",
              "</div>"
            ],
            "text/plain": [
              "   purchase_id  product_id  affiliate_id  producer_id   buyer_id  \\\n",
              "1      1663958      6640.0      209372.0     116238.0  1200397.0   \n",
              "2      1677087      2350.0      141418.0       2821.0  1083764.0   \n",
              "3      2017360     35669.0      618642.0     618642.0  1436106.0   \n",
              "4      2017379     57998.0     1164511.0      70388.0  1436118.0   \n",
              "5      2017382     58329.0     1261488.0     221253.0  1386357.0   \n",
              "\n",
              "         purchase_date product_creation_date product_category  \\\n",
              "1  2016-06-26 09:00:00   2011-03-19 12:47:36            Video   \n",
              "2  2016-06-26 09:00:00   2010-07-04 22:50:15          Podcast   \n",
              "3  2016-06-26 09:00:00   2012-06-12 23:59:37          Podcast   \n",
              "4  2016-06-26 09:00:00   2013-05-07 05:51:31          Podcast   \n",
              "5  2016-06-26 09:00:00   2013-05-12 05:12:06          Podcast   \n",
              "\n",
              "         product_niche  purchase_value  affiliate_commission_percentual  \\\n",
              "1  Presentation skills          -0.265                             50.0   \n",
              "2     Child psychology          -0.177                             60.0   \n",
              "3  Presentation skills          -0.469                              0.0   \n",
              "4   Anxiety management          -0.401                             50.0   \n",
              "5     Teaching English          -0.452                             50.0   \n",
              "\n",
              "  purchase_device purchase_origin is_origin_page_social_network  \\\n",
              "1        Smart TV     Origin ef2b                           0,0   \n",
              "2        Smart TV     Origin ef2b                           0,0   \n",
              "3        Smart TV     Origin ef2b                           0,0   \n",
              "4        Smart TV     Origin ef2b                           0,0   \n",
              "5        Smart TV     Origin ef2b                           0,0   \n",
              "\n",
              "   purchase_value_%  \n",
              "1          0.002206  \n",
              "2          0.002910  \n",
              "3          0.000576  \n",
              "4          0.001119  \n",
              "5          0.000711  "
            ]
          },
          "execution_count": 199,
          "metadata": {},
          "output_type": "execute_result"
        }
      ],
      "source": [
        "df.head()"
      ]
    },
    {
      "cell_type": "code",
      "execution_count": null,
      "metadata": {
        "id": "d18n3G8ZkaK8",
        "outputId": "38aff7c6-57a9-4c43-f64c-0157c014124d"
      },
      "outputs": [
        {
          "data": {
            "image/png": "[encoded data removed]",
            "text/plain": [
              "<Figure size 360x360 with 1 Axes>"
            ]
          },
          "metadata": {
            "needs_background": "light"
          },
          "output_type": "display_data"
        }
      ],
      "source": [
        "ax = sns.displot(data=df, x='purchase_value_%', kind='hist', bins=1000)\n",
        "ax.set(xlim=(0, 0.05));"
      ]
    },
    {
      "cell_type": "markdown",
      "metadata": {
        "id": "BF7lJGsWkaK9"
      },
      "source": [
        "### 3.2 - Variáveis Descretas\n",
        "\n",
        "Nessa seção, iremos dar uma olhada nas variáveis discretas para procurar por tendências.\n",
        "\n",
        "#### 3.2.1 - product_category"
      ]
    },
    {
      "cell_type": "code",
      "execution_count": null,
      "metadata": {
        "id": "q653j_sPkaK9",
        "outputId": "e2268141-7cab-4312-ebc6-fdc25da18437"
      },
      "outputs": [
        {
          "data": {
            "image/png": "[encoded data removed]",
            "text/plain": [
              "<Figure size 360x360 with 1 Axes>"
            ]
          },
          "metadata": {
            "needs_background": "light"
          },
          "output_type": "display_data"
        }
      ],
      "source": [
        "sns.displot(data=df, y='product_category', stat='percent');"
      ]
    },
    {
      "cell_type": "markdown",
      "metadata": {
        "id": "pRdJaCrvkaK9"
      },
      "source": [
        "Analisando o gráfico de categoria de produtos, vemos que a maior concentração de vendas na plataforma Hotmart no ano de 2016 foi em livros físicos, representando quase 80% dos casos. Seguidos por Podcast perto dos 20% e Workshop quase todo o resto.\n",
        "\n",
        "#### 3.2.2 - product_niche"
      ]
    },
    {
      "cell_type": "code",
      "execution_count": null,
      "metadata": {
        "id": "Yqeo2EJ0kaK9",
        "outputId": "ee174c31-d407-4200-93d1-053be21dcdf1"
      },
      "outputs": [
        {
          "data": {
            "image/png": "[encoded data removed]",
            "text/plain": [
              "<Figure size 360x360 with 1 Axes>"
            ]
          },
          "metadata": {
            "needs_background": "light"
          },
          "output_type": "display_data"
        }
      ],
      "source": [
        "sns.displot(data=df, y='product_niche', stat='percent');"
      ]
    },
    {
      "cell_type": "markdown",
      "metadata": {
        "id": "g2dQjKdOkaK-"
      },
      "source": [
        "Analisando o gráfico de nichos, vemos que as maiores concentrações de vendas na plataforma Hotmart no ano de 2016 estavam em na categoria de negociação, gerenciamento de ansiedade (autocontrole), que juntos representam quase 30% dos casos. Seguidos por finança pessoal e habilidade de apresentações que somados representam quase 20%.\n",
        "\n",
        "#### 3.2.3 - purchase_device"
      ]
    },
    {
      "cell_type": "code",
      "execution_count": null,
      "metadata": {
        "id": "hFAWfGkRkaK-",
        "outputId": "85e19596-4946-4b04-ebcc-1a031d2d8dc7"
      },
      "outputs": [
        {
          "data": {
            "image/png": "[encoded data removed]",
            "text/plain": [
              "<Figure size 360x360 with 1 Axes>"
            ]
          },
          "metadata": {
            "needs_background": "light"
          },
          "output_type": "display_data"
        }
      ],
      "source": [
        "sns.displot(data=df, y='purchase_device', stat='percent');"
      ]
    },
    {
      "cell_type": "markdown",
      "metadata": {
        "id": "FvMSx9gNkaK-"
      },
      "source": [
        "Analisando o gráfico de dispositivos onde são feitas as compras, vemos que a maior concentração de vendas na plataforma Hotmart no ano de 2016 foi em eReaders, representando 40% dos casos. Seguidos por Desktop na casa dos 35% e Smart TV com 20%.\n",
        "\n",
        "#### 3.2.4 - is_origin_page_social_network"
      ]
    },
    {
      "cell_type": "code",
      "execution_count": null,
      "metadata": {
        "id": "Qsl8AqiCkaK-",
        "outputId": "80be4c92-9be2-4cc6-9c1e-73de1cab37db"
      },
      "outputs": [
        {
          "data": {
            "image/png": "[encoded data removed]",
            "text/plain": [
              "<Figure size 360x360 with 1 Axes>"
            ]
          },
          "metadata": {
            "needs_background": "light"
          },
          "output_type": "display_data"
        }
      ],
      "source": [
        "sns.displot(data=df, y='is_origin_page_social_network', stat='percent');"
      ]
    },
    {
      "cell_type": "markdown",
      "metadata": {
        "id": "EiJJNPKZkaK-"
      },
      "source": [
        "Por último, o gráfico se a compra tem origem de rede sociais, vemos que quase a totalidade está com 0. Sobre esta categoria não ficou claro se 0 representa \"Sim\" ou \"Não\""
      ]
    },
    {
      "cell_type": "markdown",
      "metadata": {
        "id": "OrEX8KGMkaK-"
      },
      "source": [
        "### 3.3 - Segmentação De Vendas Por Produto\n",
        "\n",
        "Agora que conhecemos as variáveis discretas e contínuas, vamos analisar as vendas segmentadas por produto."
      ]
    },
    {
      "cell_type": "code",
      "execution_count": null,
      "metadata": {
        "id": "OLAM1yfdkaK-",
        "outputId": "9f31f853-ea11-4bf9-c789-f8b1bf067ddb"
      },
      "outputs": [
        {
          "data": {
            "text/html": [
              "<div>\n",
              "<style scoped>\n",
              "    .dataframe tbody tr th:only-of-type {\n",
              "        vertical-align: middle;\n",
              "    }\n",
              "\n",
              "    .dataframe tbody tr th {\n",
              "        vertical-align: top;\n",
              "    }\n",
              "\n",
              "    .dataframe thead th {\n",
              "        text-align: right;\n",
              "    }\n",
              "</style>\n",
              "<table border=\"1\" class=\"dataframe\">\n",
              "  <thead>\n",
              "    <tr style=\"text-align: right;\">\n",
              "      <th></th>\n",
              "      <th>product_id</th>\n",
              "      <th>product_category</th>\n",
              "      <th>product_niche</th>\n",
              "      <th>purchase_device</th>\n",
              "      <th>purchase_value_%</th>\n",
              "      <th>num_sales</th>\n",
              "      <th>sales%</th>\n",
              "      <th>revenue</th>\n",
              "      <th>revenue%</th>\n",
              "    </tr>\n",
              "  </thead>\n",
              "  <tbody>\n",
              "    <tr>\n",
              "      <th>12916</th>\n",
              "      <td>219755</td>\n",
              "      <td>Phisical book</td>\n",
              "      <td>Immigration</td>\n",
              "      <td>Desktop</td>\n",
              "      <td>0.000016</td>\n",
              "      <td>41220</td>\n",
              "      <td>2.576527</td>\n",
              "      <td>0.658982</td>\n",
              "      <td>0.010883</td>\n",
              "    </tr>\n",
              "    <tr>\n",
              "      <th>222</th>\n",
              "      <td>130294</td>\n",
              "      <td>Phisical book</td>\n",
              "      <td>Immigration</td>\n",
              "      <td>eReaders</td>\n",
              "      <td>0.002830</td>\n",
              "      <td>32731</td>\n",
              "      <td>2.045907</td>\n",
              "      <td>92.618615</td>\n",
              "      <td>1.529521</td>\n",
              "    </tr>\n",
              "    <tr>\n",
              "      <th>40</th>\n",
              "      <td>42903</td>\n",
              "      <td>Phisical book</td>\n",
              "      <td>YouTube video creation</td>\n",
              "      <td>Smart TV</td>\n",
              "      <td>0.002310</td>\n",
              "      <td>27228</td>\n",
              "      <td>1.701933</td>\n",
              "      <td>62.899810</td>\n",
              "      <td>1.038739</td>\n",
              "    </tr>\n",
              "    <tr>\n",
              "      <th>315</th>\n",
              "      <td>63718</td>\n",
              "      <td>Phisical book</td>\n",
              "      <td>YouTube video creation</td>\n",
              "      <td>eReaders</td>\n",
              "      <td>0.001902</td>\n",
              "      <td>24132</td>\n",
              "      <td>1.508412</td>\n",
              "      <td>45.909866</td>\n",
              "      <td>0.758164</td>\n",
              "    </tr>\n",
              "    <tr>\n",
              "      <th>95</th>\n",
              "      <td>132809</td>\n",
              "      <td>Phisical book</td>\n",
              "      <td>Personal finance</td>\n",
              "      <td>Smart TV</td>\n",
              "      <td>0.000016</td>\n",
              "      <td>23350</td>\n",
              "      <td>1.459532</td>\n",
              "      <td>0.373295</td>\n",
              "      <td>0.006165</td>\n",
              "    </tr>\n",
              "    <tr>\n",
              "      <th>92</th>\n",
              "      <td>83377</td>\n",
              "      <td>Phisical book</td>\n",
              "      <td>Anxiety management</td>\n",
              "      <td>Smart TV</td>\n",
              "      <td>0.002982</td>\n",
              "      <td>21601</td>\n",
              "      <td>1.350208</td>\n",
              "      <td>64.404830</td>\n",
              "      <td>1.063594</td>\n",
              "    </tr>\n",
              "    <tr>\n",
              "      <th>429</th>\n",
              "      <td>149048</td>\n",
              "      <td>Phisical book</td>\n",
              "      <td>Negotiation</td>\n",
              "      <td>Smart TV</td>\n",
              "      <td>0.000144</td>\n",
              "      <td>16386</td>\n",
              "      <td>1.024235</td>\n",
              "      <td>2.357660</td>\n",
              "      <td>0.038935</td>\n",
              "    </tr>\n",
              "    <tr>\n",
              "      <th>184</th>\n",
              "      <td>59205</td>\n",
              "      <td>Phisical book</td>\n",
              "      <td>Negotiation</td>\n",
              "      <td>eReaders</td>\n",
              "      <td>0.002958</td>\n",
              "      <td>16096</td>\n",
              "      <td>1.006108</td>\n",
              "      <td>47.605314</td>\n",
              "      <td>0.786163</td>\n",
              "    </tr>\n",
              "    <tr>\n",
              "      <th>139</th>\n",
              "      <td>154310</td>\n",
              "      <td>Podcast</td>\n",
              "      <td>Government</td>\n",
              "      <td>Smart TV</td>\n",
              "      <td>0.000520</td>\n",
              "      <td>14455</td>\n",
              "      <td>0.903535</td>\n",
              "      <td>7.510471</td>\n",
              "      <td>0.124029</td>\n",
              "    </tr>\n",
              "    <tr>\n",
              "      <th>216</th>\n",
              "      <td>132454</td>\n",
              "      <td>Phisical book</td>\n",
              "      <td>Online course creation</td>\n",
              "      <td>eReaders</td>\n",
              "      <td>0.000272</td>\n",
              "      <td>11685</td>\n",
              "      <td>0.730391</td>\n",
              "      <td>3.175729</td>\n",
              "      <td>0.052445</td>\n",
              "    </tr>\n",
              "  </tbody>\n",
              "</table>\n",
              "</div>"
            ],
            "text/plain": [
              "       product_id product_category           product_niche purchase_device  \\\n",
              "12916      219755    Phisical book             Immigration         Desktop   \n",
              "222        130294    Phisical book             Immigration        eReaders   \n",
              "40          42903    Phisical book  YouTube video creation        Smart TV   \n",
              "315         63718    Phisical book  YouTube video creation        eReaders   \n",
              "95         132809    Phisical book        Personal finance        Smart TV   \n",
              "92          83377    Phisical book      Anxiety management        Smart TV   \n",
              "429        149048    Phisical book             Negotiation        Smart TV   \n",
              "184         59205    Phisical book             Negotiation        eReaders   \n",
              "139        154310          Podcast              Government        Smart TV   \n",
              "216        132454    Phisical book  Online course creation        eReaders   \n",
              "\n",
              "       purchase_value_%  num_sales    sales%    revenue  revenue%  \n",
              "12916          0.000016      41220  2.576527   0.658982  0.010883  \n",
              "222            0.002830      32731  2.045907  92.618615  1.529521  \n",
              "40             0.002310      27228  1.701933  62.899810  1.038739  \n",
              "315            0.001902      24132  1.508412  45.909866  0.758164  \n",
              "95             0.000016      23350  1.459532   0.373295  0.006165  \n",
              "92             0.002982      21601  1.350208  64.404830  1.063594  \n",
              "429            0.000144      16386  1.024235   2.357660  0.038935  \n",
              "184            0.002958      16096  1.006108  47.605314  0.786163  \n",
              "139            0.000520      14455  0.903535   7.510471  0.124029  \n",
              "216            0.000272      11685  0.730391   3.175729  0.052445  "
            ]
          },
          "execution_count": 205,
          "metadata": {},
          "output_type": "execute_result"
        }
      ],
      "source": [
        "# Produtos mais vendidos por id\n",
        "num_sales = df.groupby('product_id').count()[['purchase_id']].sort_values(by=['purchase_id'], ascending=False)\n",
        "num_sales.columns = ['num_sales']\n",
        "num_sales['sales%'] = 100*(num_sales['num_sales']/num_sales['num_sales'].sum())\n",
        "df_subset = df.filter(['product_id', 'product_category', 'product_niche', 'purchase_device', 'purchase_value_%']).drop_duplicates(subset=['product_id'])\n",
        "df_subset = df_subset.merge(num_sales, how='inner',on='product_id')\n",
        "df_subset['revenue'] = df_subset['purchase_value_%'] * df_subset['num_sales']\n",
        "df_subset['product_id'] = df_subset['product_id'].astype('int')\n",
        "df_subset['revenue%'] = 100*(df_subset['revenue']/df_subset['revenue'].sum())\n",
        "\n",
        "df_subset1 = df_subset.sort_values(by='num_sales', ascending=False).head(10)\n",
        "df_subset1"
      ]
    },
    {
      "cell_type": "markdown",
      "metadata": {
        "id": "vo-0AQ_VkaK_"
      },
      "source": [
        "Da tabela gerada, vemos que os produtos mais vendidos foram livros físicos, como era de se esperar, visto que representam quase 80% de vendas na plataforma, focado no nicho de imigração, criação de conteúdo por Youtubers, e finanças. A maioria das compras vieram de eReaders e Smart TV."
      ]
    },
    {
      "cell_type": "code",
      "execution_count": null,
      "metadata": {
        "id": "FN_q7SJZkaK_",
        "outputId": "36b40000-6975-47cf-a33b-4f69fc0675bb"
      },
      "outputs": [
        {
          "data": {
            "text/html": [
              "<div>\n",
              "<style scoped>\n",
              "    .dataframe tbody tr th:only-of-type {\n",
              "        vertical-align: middle;\n",
              "    }\n",
              "\n",
              "    .dataframe tbody tr th {\n",
              "        vertical-align: top;\n",
              "    }\n",
              "\n",
              "    .dataframe thead th {\n",
              "        text-align: right;\n",
              "    }\n",
              "</style>\n",
              "<table border=\"1\" class=\"dataframe\">\n",
              "  <thead>\n",
              "    <tr style=\"text-align: right;\">\n",
              "      <th></th>\n",
              "      <th>product_id</th>\n",
              "      <th>product_category</th>\n",
              "      <th>product_niche</th>\n",
              "      <th>purchase_device</th>\n",
              "      <th>purchase_value_%</th>\n",
              "      <th>num_sales</th>\n",
              "      <th>sales%</th>\n",
              "      <th>revenue</th>\n",
              "      <th>revenue%</th>\n",
              "    </tr>\n",
              "  </thead>\n",
              "  <tbody>\n",
              "    <tr>\n",
              "      <th>222</th>\n",
              "      <td>130294</td>\n",
              "      <td>Phisical book</td>\n",
              "      <td>Immigration</td>\n",
              "      <td>eReaders</td>\n",
              "      <td>0.002830</td>\n",
              "      <td>32731</td>\n",
              "      <td>2.045907</td>\n",
              "      <td>92.618615</td>\n",
              "      <td>1.529521</td>\n",
              "    </tr>\n",
              "    <tr>\n",
              "      <th>10213</th>\n",
              "      <td>206775</td>\n",
              "      <td>Phisical book</td>\n",
              "      <td>Careers</td>\n",
              "      <td>eReaders</td>\n",
              "      <td>0.061678</td>\n",
              "      <td>1226</td>\n",
              "      <td>0.076633</td>\n",
              "      <td>75.616825</td>\n",
              "      <td>1.248751</td>\n",
              "    </tr>\n",
              "    <tr>\n",
              "      <th>92</th>\n",
              "      <td>83377</td>\n",
              "      <td>Phisical book</td>\n",
              "      <td>Anxiety management</td>\n",
              "      <td>Smart TV</td>\n",
              "      <td>0.002982</td>\n",
              "      <td>21601</td>\n",
              "      <td>1.350208</td>\n",
              "      <td>64.404830</td>\n",
              "      <td>1.063594</td>\n",
              "    </tr>\n",
              "    <tr>\n",
              "      <th>40</th>\n",
              "      <td>42903</td>\n",
              "      <td>Phisical book</td>\n",
              "      <td>YouTube video creation</td>\n",
              "      <td>Smart TV</td>\n",
              "      <td>0.002310</td>\n",
              "      <td>27228</td>\n",
              "      <td>1.701933</td>\n",
              "      <td>62.899810</td>\n",
              "      <td>1.038739</td>\n",
              "    </tr>\n",
              "    <tr>\n",
              "      <th>220</th>\n",
              "      <td>138480</td>\n",
              "      <td>Phisical book</td>\n",
              "      <td>Presentation skills</td>\n",
              "      <td>Desktop</td>\n",
              "      <td>0.005955</td>\n",
              "      <td>9903</td>\n",
              "      <td>0.619004</td>\n",
              "      <td>58.973757</td>\n",
              "      <td>0.973904</td>\n",
              "    </tr>\n",
              "    <tr>\n",
              "      <th>377</th>\n",
              "      <td>191898</td>\n",
              "      <td>Phisical book</td>\n",
              "      <td>Anxiety management</td>\n",
              "      <td>eReaders</td>\n",
              "      <td>0.005380</td>\n",
              "      <td>10018</td>\n",
              "      <td>0.626192</td>\n",
              "      <td>53.892935</td>\n",
              "      <td>0.889998</td>\n",
              "    </tr>\n",
              "    <tr>\n",
              "      <th>10153</th>\n",
              "      <td>202509</td>\n",
              "      <td>Phisical book</td>\n",
              "      <td>Accounting</td>\n",
              "      <td>eReaders</td>\n",
              "      <td>0.021063</td>\n",
              "      <td>2376</td>\n",
              "      <td>0.148516</td>\n",
              "      <td>50.045243</td>\n",
              "      <td>0.826457</td>\n",
              "    </tr>\n",
              "    <tr>\n",
              "      <th>10799</th>\n",
              "      <td>209799</td>\n",
              "      <td>Phisical book</td>\n",
              "      <td>Negotiation</td>\n",
              "      <td>eReaders</td>\n",
              "      <td>0.030071</td>\n",
              "      <td>1622</td>\n",
              "      <td>0.101386</td>\n",
              "      <td>48.775911</td>\n",
              "      <td>0.805495</td>\n",
              "    </tr>\n",
              "    <tr>\n",
              "      <th>184</th>\n",
              "      <td>59205</td>\n",
              "      <td>Phisical book</td>\n",
              "      <td>Negotiation</td>\n",
              "      <td>eReaders</td>\n",
              "      <td>0.002958</td>\n",
              "      <td>16096</td>\n",
              "      <td>1.006108</td>\n",
              "      <td>47.605314</td>\n",
              "      <td>0.786163</td>\n",
              "    </tr>\n",
              "    <tr>\n",
              "      <th>358</th>\n",
              "      <td>150610</td>\n",
              "      <td>Phisical book</td>\n",
              "      <td>Child psychology</td>\n",
              "      <td>eReaders</td>\n",
              "      <td>0.007458</td>\n",
              "      <td>6253</td>\n",
              "      <td>0.390855</td>\n",
              "      <td>46.634338</td>\n",
              "      <td>0.770128</td>\n",
              "    </tr>\n",
              "  </tbody>\n",
              "</table>\n",
              "</div>"
            ],
            "text/plain": [
              "       product_id product_category           product_niche purchase_device  \\\n",
              "222        130294    Phisical book             Immigration        eReaders   \n",
              "10213      206775    Phisical book                 Careers        eReaders   \n",
              "92          83377    Phisical book      Anxiety management        Smart TV   \n",
              "40          42903    Phisical book  YouTube video creation        Smart TV   \n",
              "220        138480    Phisical book     Presentation skills         Desktop   \n",
              "377        191898    Phisical book      Anxiety management        eReaders   \n",
              "10153      202509    Phisical book              Accounting        eReaders   \n",
              "10799      209799    Phisical book             Negotiation        eReaders   \n",
              "184         59205    Phisical book             Negotiation        eReaders   \n",
              "358        150610    Phisical book        Child psychology        eReaders   \n",
              "\n",
              "       purchase_value_%  num_sales    sales%    revenue  revenue%  \n",
              "222            0.002830      32731  2.045907  92.618615  1.529521  \n",
              "10213          0.061678       1226  0.076633  75.616825  1.248751  \n",
              "92             0.002982      21601  1.350208  64.404830  1.063594  \n",
              "40             0.002310      27228  1.701933  62.899810  1.038739  \n",
              "220            0.005955       9903  0.619004  58.973757  0.973904  \n",
              "377            0.005380      10018  0.626192  53.892935  0.889998  \n",
              "10153          0.021063       2376  0.148516  50.045243  0.826457  \n",
              "10799          0.030071       1622  0.101386  48.775911  0.805495  \n",
              "184            0.002958      16096  1.006108  47.605314  0.786163  \n",
              "358            0.007458       6253  0.390855  46.634338  0.770128  "
            ]
          },
          "execution_count": 206,
          "metadata": {},
          "output_type": "execute_result"
        }
      ],
      "source": [
        "# Produtos com maior faturamente por id\n",
        "df_subset2 = df_subset.sort_values(by='revenue', ascending=False).head(10)\n",
        "df_subset2"
      ]
    },
    {
      "cell_type": "markdown",
      "metadata": {
        "id": "xyKDK1rmkaK_"
      },
      "source": [
        "Na tabela acima é possível ver que no quesito de faturamento, o top 10 são todos livros físicos focados no mesmo nicho. O curioso é que as compras foram feitas na maior parte nos eReaders, o que fica o questionamento se a categoria de produtos está realmente correta."
      ]
    },
    {
      "cell_type": "code",
      "execution_count": null,
      "metadata": {
        "id": "dikIJSz4kaK_",
        "outputId": "402aed50-b0d2-4eeb-efde-831046297377"
      },
      "outputs": [
        {
          "data": {
            "text/html": [
              "<div>\n",
              "<style scoped>\n",
              "    .dataframe tbody tr th:only-of-type {\n",
              "        vertical-align: middle;\n",
              "    }\n",
              "\n",
              "    .dataframe tbody tr th {\n",
              "        vertical-align: top;\n",
              "    }\n",
              "\n",
              "    .dataframe thead th {\n",
              "        text-align: right;\n",
              "    }\n",
              "</style>\n",
              "<table border=\"1\" class=\"dataframe\">\n",
              "  <thead>\n",
              "    <tr style=\"text-align: right;\">\n",
              "      <th></th>\n",
              "      <th>product_id</th>\n",
              "      <th>product_category_x</th>\n",
              "      <th>product_niche_x</th>\n",
              "      <th>purchase_device_x</th>\n",
              "      <th>purchase_value_%_x</th>\n",
              "      <th>num_sales_x</th>\n",
              "      <th>sales%_x</th>\n",
              "      <th>revenue_x</th>\n",
              "      <th>revenue%_x</th>\n",
              "      <th>product_category_y</th>\n",
              "      <th>product_niche_y</th>\n",
              "      <th>purchase_device_y</th>\n",
              "      <th>purchase_value_%_y</th>\n",
              "      <th>num_sales_y</th>\n",
              "      <th>sales%_y</th>\n",
              "      <th>revenue_y</th>\n",
              "      <th>revenue%_y</th>\n",
              "    </tr>\n",
              "  </thead>\n",
              "  <tbody>\n",
              "    <tr>\n",
              "      <th>0</th>\n",
              "      <td>130294</td>\n",
              "      <td>Phisical book</td>\n",
              "      <td>Immigration</td>\n",
              "      <td>eReaders</td>\n",
              "      <td>0.002830</td>\n",
              "      <td>32731</td>\n",
              "      <td>2.045907</td>\n",
              "      <td>92.618615</td>\n",
              "      <td>1.529521</td>\n",
              "      <td>Phisical book</td>\n",
              "      <td>Immigration</td>\n",
              "      <td>eReaders</td>\n",
              "      <td>0.002830</td>\n",
              "      <td>32731</td>\n",
              "      <td>2.045907</td>\n",
              "      <td>92.618615</td>\n",
              "      <td>1.529521</td>\n",
              "    </tr>\n",
              "    <tr>\n",
              "      <th>1</th>\n",
              "      <td>42903</td>\n",
              "      <td>Phisical book</td>\n",
              "      <td>YouTube video creation</td>\n",
              "      <td>Smart TV</td>\n",
              "      <td>0.002310</td>\n",
              "      <td>27228</td>\n",
              "      <td>1.701933</td>\n",
              "      <td>62.899810</td>\n",
              "      <td>1.038739</td>\n",
              "      <td>Phisical book</td>\n",
              "      <td>YouTube video creation</td>\n",
              "      <td>Smart TV</td>\n",
              "      <td>0.002310</td>\n",
              "      <td>27228</td>\n",
              "      <td>1.701933</td>\n",
              "      <td>62.899810</td>\n",
              "      <td>1.038739</td>\n",
              "    </tr>\n",
              "    <tr>\n",
              "      <th>2</th>\n",
              "      <td>83377</td>\n",
              "      <td>Phisical book</td>\n",
              "      <td>Anxiety management</td>\n",
              "      <td>Smart TV</td>\n",
              "      <td>0.002982</td>\n",
              "      <td>21601</td>\n",
              "      <td>1.350208</td>\n",
              "      <td>64.404830</td>\n",
              "      <td>1.063594</td>\n",
              "      <td>Phisical book</td>\n",
              "      <td>Anxiety management</td>\n",
              "      <td>Smart TV</td>\n",
              "      <td>0.002982</td>\n",
              "      <td>21601</td>\n",
              "      <td>1.350208</td>\n",
              "      <td>64.404830</td>\n",
              "      <td>1.063594</td>\n",
              "    </tr>\n",
              "    <tr>\n",
              "      <th>3</th>\n",
              "      <td>59205</td>\n",
              "      <td>Phisical book</td>\n",
              "      <td>Negotiation</td>\n",
              "      <td>eReaders</td>\n",
              "      <td>0.002958</td>\n",
              "      <td>16096</td>\n",
              "      <td>1.006108</td>\n",
              "      <td>47.605314</td>\n",
              "      <td>0.786163</td>\n",
              "      <td>Phisical book</td>\n",
              "      <td>Negotiation</td>\n",
              "      <td>eReaders</td>\n",
              "      <td>0.002958</td>\n",
              "      <td>16096</td>\n",
              "      <td>1.006108</td>\n",
              "      <td>47.605314</td>\n",
              "      <td>0.786163</td>\n",
              "    </tr>\n",
              "  </tbody>\n",
              "</table>\n",
              "</div>"
            ],
            "text/plain": [
              "   product_id product_category_x         product_niche_x purchase_device_x  \\\n",
              "0      130294      Phisical book             Immigration          eReaders   \n",
              "1       42903      Phisical book  YouTube video creation          Smart TV   \n",
              "2       83377      Phisical book      Anxiety management          Smart TV   \n",
              "3       59205      Phisical book             Negotiation          eReaders   \n",
              "\n",
              "   purchase_value_%_x  num_sales_x  sales%_x  revenue_x  revenue%_x  \\\n",
              "0            0.002830        32731  2.045907  92.618615    1.529521   \n",
              "1            0.002310        27228  1.701933  62.899810    1.038739   \n",
              "2            0.002982        21601  1.350208  64.404830    1.063594   \n",
              "3            0.002958        16096  1.006108  47.605314    0.786163   \n",
              "\n",
              "  product_category_y         product_niche_y purchase_device_y  \\\n",
              "0      Phisical book             Immigration          eReaders   \n",
              "1      Phisical book  YouTube video creation          Smart TV   \n",
              "2      Phisical book      Anxiety management          Smart TV   \n",
              "3      Phisical book             Negotiation          eReaders   \n",
              "\n",
              "   purchase_value_%_y  num_sales_y  sales%_y  revenue_y  revenue%_y  \n",
              "0            0.002830        32731  2.045907  92.618615    1.529521  \n",
              "1            0.002310        27228  1.701933  62.899810    1.038739  \n",
              "2            0.002982        21601  1.350208  64.404830    1.063594  \n",
              "3            0.002958        16096  1.006108  47.605314    0.786163  "
            ]
          },
          "execution_count": 207,
          "metadata": {},
          "output_type": "execute_result"
        }
      ],
      "source": [
        "df_subset1.merge(df_subset2 , on='product_id')"
      ]
    },
    {
      "cell_type": "markdown",
      "metadata": {
        "id": "syeG9KBXkaK_"
      },
      "source": [
        "Por último, temos que 4 dos 10 produtos mais vendidos na plataforma também são os produtos que mais geraram receitas.\n",
        " \n",
        "Agora vamos analisar a relevância de vendas dos produtos na Hotmart\n"
      ]
    },
    {
      "cell_type": "code",
      "execution_count": null,
      "metadata": {
        "id": "DRffbbdikaK_",
        "outputId": "c0754f6d-065d-49c2-842c-fd4731ea101d"
      },
      "outputs": [
        {
          "name": "stdout",
          "output_type": "stream",
          "text": [
            "top 1 Sales  2.58 %\n",
            "top 10 Sales  14.31 %\n",
            "top 50 Sales  28.36 %\n",
            "top 100 Sales  37.28 %\n",
            "top 500 Sales  61.94 %\n",
            "top 1000 Sales  73.54 %\n",
            "\n",
            "top 1 Revenue  1.53 %\n",
            "top 10 Revenue  9.93 %\n",
            "top 50 Revenue  27.66 %\n",
            "top 100 Revenue  38.51 %\n",
            "top 500 Revenue  67.08 %\n",
            "top 1000 Revenue  79.07 %\n"
          ]
        }
      ],
      "source": [
        "values = [1, 10, 50, 100, 500, 1000]\n",
        "for value in values:\n",
        "    x = df_subset['sales%'].sort_values(ascending=False).iloc[0:value].sum()\n",
        "    print(f'top {value} Sales {x: .2f} %')\n",
        "print()\n",
        "for value in values:    \n",
        "    y = df_subset['revenue%'].sort_values(ascending=False).iloc[0:value].sum()\n",
        "    print(f'top {value} Revenue {y: .2f} %')"
      ]
    },
    {
      "cell_type": "markdown",
      "metadata": {
        "id": "mYxHBA5SkaK_"
      },
      "source": [
        "Dos resultados, podemos ver que os 10 produtos que mais deram lucros para a Hormat no ano de 2016 também foram responsáveis por quase 10% de todo o lucro da empresa. Vemos também que 50% dos produtos mais vendidos, são responsáveis por quase 30% de todo o faturamento. No quesito de quantidade de vendas, vemos que o padrão é muito parecido com a quantidade de lucro da empresa."
      ]
    },
    {
      "cell_type": "markdown",
      "metadata": {
        "id": "5WxWJQ7ckaLA"
      },
      "source": [
        "### 3.4 - Segmentação Das Vendas Por Produtor de Conteúdo\n",
        "\n",
        "Iremos fazer a mesma análise de seção anterior, mas focado no produtor de conteúdo\n",
        "\n"
      ]
    },
    {
      "cell_type": "code",
      "execution_count": null,
      "metadata": {
        "id": "GEQZofDAkaLA",
        "outputId": "94d7b416-c4b4-4d87-faab-c54f614f8c83"
      },
      "outputs": [
        {
          "data": {
            "text/html": [
              "<div>\n",
              "<style scoped>\n",
              "    .dataframe tbody tr th:only-of-type {\n",
              "        vertical-align: middle;\n",
              "    }\n",
              "\n",
              "    .dataframe tbody tr th {\n",
              "        vertical-align: top;\n",
              "    }\n",
              "\n",
              "    .dataframe thead th {\n",
              "        text-align: right;\n",
              "    }\n",
              "</style>\n",
              "<table border=\"1\" class=\"dataframe\">\n",
              "  <thead>\n",
              "    <tr style=\"text-align: right;\">\n",
              "      <th></th>\n",
              "      <th>producer_id</th>\n",
              "      <th>product_category</th>\n",
              "      <th>product_niche</th>\n",
              "      <th>purchase_device</th>\n",
              "      <th>purchase_value_%</th>\n",
              "      <th>num_sales</th>\n",
              "      <th>sales%</th>\n",
              "      <th>revenue</th>\n",
              "      <th>revenue%</th>\n",
              "    </tr>\n",
              "  </thead>\n",
              "  <tbody>\n",
              "    <tr>\n",
              "      <th>6067</th>\n",
              "      <td>6697083</td>\n",
              "      <td>Phisical book</td>\n",
              "      <td>Immigration</td>\n",
              "      <td>Desktop</td>\n",
              "      <td>0.000016</td>\n",
              "      <td>41220</td>\n",
              "      <td>2.576527</td>\n",
              "      <td>0.658982</td>\n",
              "      <td>0.010475</td>\n",
              "    </tr>\n",
              "    <tr>\n",
              "      <th>191</th>\n",
              "      <td>3992235</td>\n",
              "      <td>Phisical book</td>\n",
              "      <td>Immigration</td>\n",
              "      <td>eReaders</td>\n",
              "      <td>0.002830</td>\n",
              "      <td>39331</td>\n",
              "      <td>2.458452</td>\n",
              "      <td>111.294576</td>\n",
              "      <td>1.769177</td>\n",
              "    </tr>\n",
              "    <tr>\n",
              "      <th>91</th>\n",
              "      <td>464846</td>\n",
              "      <td>Phisical book</td>\n",
              "      <td>Personal finance</td>\n",
              "      <td>Smart TV</td>\n",
              "      <td>0.000016</td>\n",
              "      <td>35470</td>\n",
              "      <td>2.217113</td>\n",
              "      <td>0.567057</td>\n",
              "      <td>0.009014</td>\n",
              "    </tr>\n",
              "    <tr>\n",
              "      <th>56</th>\n",
              "      <td>349701</td>\n",
              "      <td>Phisical book</td>\n",
              "      <td>Anxiety management</td>\n",
              "      <td>Smart TV</td>\n",
              "      <td>0.003109</td>\n",
              "      <td>34568</td>\n",
              "      <td>2.160732</td>\n",
              "      <td>107.487906</td>\n",
              "      <td>1.708665</td>\n",
              "    </tr>\n",
              "    <tr>\n",
              "      <th>268</th>\n",
              "      <td>166090</td>\n",
              "      <td>Phisical book</td>\n",
              "      <td>YouTube video creation</td>\n",
              "      <td>eReaders</td>\n",
              "      <td>0.001902</td>\n",
              "      <td>28895</td>\n",
              "      <td>1.806132</td>\n",
              "      <td>54.971223</td>\n",
              "      <td>0.873842</td>\n",
              "    </tr>\n",
              "    <tr>\n",
              "      <th>37</th>\n",
              "      <td>442241</td>\n",
              "      <td>Phisical book</td>\n",
              "      <td>YouTube video creation</td>\n",
              "      <td>Smart TV</td>\n",
              "      <td>0.002310</td>\n",
              "      <td>27798</td>\n",
              "      <td>1.737562</td>\n",
              "      <td>64.216575</td>\n",
              "      <td>1.020809</td>\n",
              "    </tr>\n",
              "    <tr>\n",
              "      <th>88</th>\n",
              "      <td>2307584</td>\n",
              "      <td>Phisical book</td>\n",
              "      <td>Anxiety management</td>\n",
              "      <td>Smart TV</td>\n",
              "      <td>0.002982</td>\n",
              "      <td>21720</td>\n",
              "      <td>1.357646</td>\n",
              "      <td>64.759636</td>\n",
              "      <td>1.029442</td>\n",
              "    </tr>\n",
              "    <tr>\n",
              "      <th>60</th>\n",
              "      <td>3382787</td>\n",
              "      <td>Podcast</td>\n",
              "      <td>Anxiety management</td>\n",
              "      <td>Smart TV</td>\n",
              "      <td>0.000296</td>\n",
              "      <td>20199</td>\n",
              "      <td>1.262573</td>\n",
              "      <td>5.974029</td>\n",
              "      <td>0.094965</td>\n",
              "    </tr>\n",
              "    <tr>\n",
              "      <th>351</th>\n",
              "      <td>4580574</td>\n",
              "      <td>Phisical book</td>\n",
              "      <td>Negotiation</td>\n",
              "      <td>Smart TV</td>\n",
              "      <td>0.000144</td>\n",
              "      <td>16386</td>\n",
              "      <td>1.024235</td>\n",
              "      <td>2.357660</td>\n",
              "      <td>0.037478</td>\n",
              "    </tr>\n",
              "    <tr>\n",
              "      <th>160</th>\n",
              "      <td>671256</td>\n",
              "      <td>Phisical book</td>\n",
              "      <td>Negotiation</td>\n",
              "      <td>eReaders</td>\n",
              "      <td>0.002958</td>\n",
              "      <td>16096</td>\n",
              "      <td>1.006108</td>\n",
              "      <td>47.605314</td>\n",
              "      <td>0.756751</td>\n",
              "    </tr>\n",
              "  </tbody>\n",
              "</table>\n",
              "</div>"
            ],
            "text/plain": [
              "      producer_id product_category           product_niche purchase_device  \\\n",
              "6067      6697083    Phisical book             Immigration         Desktop   \n",
              "191       3992235    Phisical book             Immigration        eReaders   \n",
              "91         464846    Phisical book        Personal finance        Smart TV   \n",
              "56         349701    Phisical book      Anxiety management        Smart TV   \n",
              "268        166090    Phisical book  YouTube video creation        eReaders   \n",
              "37         442241    Phisical book  YouTube video creation        Smart TV   \n",
              "88        2307584    Phisical book      Anxiety management        Smart TV   \n",
              "60        3382787          Podcast      Anxiety management        Smart TV   \n",
              "351       4580574    Phisical book             Negotiation        Smart TV   \n",
              "160        671256    Phisical book             Negotiation        eReaders   \n",
              "\n",
              "      purchase_value_%  num_sales    sales%     revenue  revenue%  \n",
              "6067          0.000016      41220  2.576527    0.658982  0.010475  \n",
              "191           0.002830      39331  2.458452  111.294576  1.769177  \n",
              "91            0.000016      35470  2.217113    0.567057  0.009014  \n",
              "56            0.003109      34568  2.160732  107.487906  1.708665  \n",
              "268           0.001902      28895  1.806132   54.971223  0.873842  \n",
              "37            0.002310      27798  1.737562   64.216575  1.020809  \n",
              "88            0.002982      21720  1.357646   64.759636  1.029442  \n",
              "60            0.000296      20199  1.262573    5.974029  0.094965  \n",
              "351           0.000144      16386  1.024235    2.357660  0.037478  \n",
              "160           0.002958      16096  1.006108   47.605314  0.756751  "
            ]
          },
          "execution_count": 209,
          "metadata": {},
          "output_type": "execute_result"
        }
      ],
      "source": [
        "# Produtos mais vendidos por id\n",
        "num_sales = df.groupby('producer_id').count()[['purchase_id']].sort_values(by=['purchase_id'], ascending=False)\n",
        "num_sales.columns = ['num_sales']\n",
        "num_sales['sales%'] = 100*(num_sales['num_sales']/num_sales['num_sales'].sum())\n",
        "df_subset = df.filter(['producer_id', 'product_category', 'product_niche', 'purchase_device', 'purchase_value_%']).drop_duplicates(subset=['producer_id'])\n",
        "df_subset = df_subset.merge(num_sales, how='inner',on='producer_id')\n",
        "df_subset['revenue'] = df_subset['purchase_value_%'] * df_subset['num_sales']\n",
        "df_subset['producer_id'] = df_subset['producer_id'].astype('int')\n",
        "df_subset['revenue%'] = 100*(df_subset['revenue']/df_subset['revenue'].sum())\n",
        "\n",
        "\n",
        "df_subset1 = df_subset.sort_values(by='num_sales', ascending=False).head(10)\n",
        "df_subset1"
      ]
    },
    {
      "cell_type": "code",
      "execution_count": null,
      "metadata": {
        "id": "ehMKJy7VkaLA",
        "outputId": "21602b2c-61be-4157-ed24-e3cdd76287d0"
      },
      "outputs": [
        {
          "data": {
            "text/html": [
              "<div>\n",
              "<style scoped>\n",
              "    .dataframe tbody tr th:only-of-type {\n",
              "        vertical-align: middle;\n",
              "    }\n",
              "\n",
              "    .dataframe tbody tr th {\n",
              "        vertical-align: top;\n",
              "    }\n",
              "\n",
              "    .dataframe thead th {\n",
              "        text-align: right;\n",
              "    }\n",
              "</style>\n",
              "<table border=\"1\" class=\"dataframe\">\n",
              "  <thead>\n",
              "    <tr style=\"text-align: right;\">\n",
              "      <th></th>\n",
              "      <th>producer_id</th>\n",
              "      <th>product_category</th>\n",
              "      <th>product_niche</th>\n",
              "      <th>purchase_device</th>\n",
              "      <th>purchase_value_%</th>\n",
              "      <th>num_sales</th>\n",
              "      <th>sales%</th>\n",
              "      <th>revenue</th>\n",
              "      <th>revenue%</th>\n",
              "    </tr>\n",
              "  </thead>\n",
              "  <tbody>\n",
              "    <tr>\n",
              "      <th>1963</th>\n",
              "      <td>3781032</td>\n",
              "      <td>Phisical book</td>\n",
              "      <td>Personal finance</td>\n",
              "      <td>Desktop</td>\n",
              "      <td>0.171356</td>\n",
              "      <td>802</td>\n",
              "      <td>0.050130</td>\n",
              "      <td>137.427651</td>\n",
              "      <td>2.184598</td>\n",
              "    </tr>\n",
              "    <tr>\n",
              "      <th>81</th>\n",
              "      <td>4181</td>\n",
              "      <td>Phisical book</td>\n",
              "      <td>Careers</td>\n",
              "      <td>Smart TV</td>\n",
              "      <td>0.035467</td>\n",
              "      <td>3823</td>\n",
              "      <td>0.238963</td>\n",
              "      <td>135.590566</td>\n",
              "      <td>2.155395</td>\n",
              "    </tr>\n",
              "    <tr>\n",
              "      <th>191</th>\n",
              "      <td>3992235</td>\n",
              "      <td>Phisical book</td>\n",
              "      <td>Immigration</td>\n",
              "      <td>eReaders</td>\n",
              "      <td>0.002830</td>\n",
              "      <td>39331</td>\n",
              "      <td>2.458452</td>\n",
              "      <td>111.294576</td>\n",
              "      <td>1.769177</td>\n",
              "    </tr>\n",
              "    <tr>\n",
              "      <th>56</th>\n",
              "      <td>349701</td>\n",
              "      <td>Phisical book</td>\n",
              "      <td>Anxiety management</td>\n",
              "      <td>Smart TV</td>\n",
              "      <td>0.003109</td>\n",
              "      <td>34568</td>\n",
              "      <td>2.160732</td>\n",
              "      <td>107.487906</td>\n",
              "      <td>1.708665</td>\n",
              "    </tr>\n",
              "    <tr>\n",
              "      <th>48</th>\n",
              "      <td>304845</td>\n",
              "      <td>Phisical book</td>\n",
              "      <td>Accounting</td>\n",
              "      <td>Smart TV</td>\n",
              "      <td>0.035027</td>\n",
              "      <td>3024</td>\n",
              "      <td>0.189020</td>\n",
              "      <td>105.922911</td>\n",
              "      <td>1.683787</td>\n",
              "    </tr>\n",
              "    <tr>\n",
              "      <th>78</th>\n",
              "      <td>3630929</td>\n",
              "      <td>Phisical book</td>\n",
              "      <td>Negotiation</td>\n",
              "      <td>Smart TV</td>\n",
              "      <td>0.016275</td>\n",
              "      <td>5645</td>\n",
              "      <td>0.352850</td>\n",
              "      <td>91.870793</td>\n",
              "      <td>1.460410</td>\n",
              "    </tr>\n",
              "    <tr>\n",
              "      <th>80</th>\n",
              "      <td>1961779</td>\n",
              "      <td>Phisical book</td>\n",
              "      <td>Presentation skills</td>\n",
              "      <td>Smart TV</td>\n",
              "      <td>0.071478</td>\n",
              "      <td>1125</td>\n",
              "      <td>0.070320</td>\n",
              "      <td>80.412383</td>\n",
              "      <td>1.278263</td>\n",
              "    </tr>\n",
              "    <tr>\n",
              "      <th>5209</th>\n",
              "      <td>1305866</td>\n",
              "      <td>Phisical book</td>\n",
              "      <td>Negotiation</td>\n",
              "      <td>eReaders</td>\n",
              "      <td>0.030071</td>\n",
              "      <td>2533</td>\n",
              "      <td>0.158330</td>\n",
              "      <td>76.171012</td>\n",
              "      <td>1.210841</td>\n",
              "    </tr>\n",
              "    <tr>\n",
              "      <th>289</th>\n",
              "      <td>4466217</td>\n",
              "      <td>Phisical book</td>\n",
              "      <td>Personal finance</td>\n",
              "      <td>eReaders</td>\n",
              "      <td>0.041710</td>\n",
              "      <td>1821</td>\n",
              "      <td>0.113825</td>\n",
              "      <td>75.953846</td>\n",
              "      <td>1.207389</td>\n",
              "    </tr>\n",
              "    <tr>\n",
              "      <th>315</th>\n",
              "      <td>227543</td>\n",
              "      <td>Phisical book</td>\n",
              "      <td>Accounting</td>\n",
              "      <td>Desktop</td>\n",
              "      <td>0.017490</td>\n",
              "      <td>4002</td>\n",
              "      <td>0.250152</td>\n",
              "      <td>69.993893</td>\n",
              "      <td>1.112647</td>\n",
              "    </tr>\n",
              "  </tbody>\n",
              "</table>\n",
              "</div>"
            ],
            "text/plain": [
              "      producer_id product_category        product_niche purchase_device  \\\n",
              "1963      3781032    Phisical book     Personal finance         Desktop   \n",
              "81           4181    Phisical book              Careers        Smart TV   \n",
              "191       3992235    Phisical book          Immigration        eReaders   \n",
              "56         349701    Phisical book   Anxiety management        Smart TV   \n",
              "48         304845    Phisical book           Accounting        Smart TV   \n",
              "78        3630929    Phisical book          Negotiation        Smart TV   \n",
              "80        1961779    Phisical book  Presentation skills        Smart TV   \n",
              "5209      1305866    Phisical book          Negotiation        eReaders   \n",
              "289       4466217    Phisical book     Personal finance        eReaders   \n",
              "315        227543    Phisical book           Accounting         Desktop   \n",
              "\n",
              "      purchase_value_%  num_sales    sales%     revenue  revenue%  \n",
              "1963          0.171356        802  0.050130  137.427651  2.184598  \n",
              "81            0.035467       3823  0.238963  135.590566  2.155395  \n",
              "191           0.002830      39331  2.458452  111.294576  1.769177  \n",
              "56            0.003109      34568  2.160732  107.487906  1.708665  \n",
              "48            0.035027       3024  0.189020  105.922911  1.683787  \n",
              "78            0.016275       5645  0.352850   91.870793  1.460410  \n",
              "80            0.071478       1125  0.070320   80.412383  1.278263  \n",
              "5209          0.030071       2533  0.158330   76.171012  1.210841  \n",
              "289           0.041710       1821  0.113825   75.953846  1.207389  \n",
              "315           0.017490       4002  0.250152   69.993893  1.112647  "
            ]
          },
          "execution_count": 210,
          "metadata": {},
          "output_type": "execute_result"
        }
      ],
      "source": [
        "# Produtores com maior faturamente por id\n",
        "df_subset2 = df_subset.sort_values(by='revenue', ascending=False).head(10)\n",
        "df_subset2"
      ]
    },
    {
      "cell_type": "code",
      "execution_count": null,
      "metadata": {
        "id": "3a71wDOYkaLA",
        "outputId": "c3bb762d-7fa9-4506-c24a-71482ae4af1b"
      },
      "outputs": [
        {
          "data": {
            "text/html": [
              "<div>\n",
              "<style scoped>\n",
              "    .dataframe tbody tr th:only-of-type {\n",
              "        vertical-align: middle;\n",
              "    }\n",
              "\n",
              "    .dataframe tbody tr th {\n",
              "        vertical-align: top;\n",
              "    }\n",
              "\n",
              "    .dataframe thead th {\n",
              "        text-align: right;\n",
              "    }\n",
              "</style>\n",
              "<table border=\"1\" class=\"dataframe\">\n",
              "  <thead>\n",
              "    <tr style=\"text-align: right;\">\n",
              "      <th></th>\n",
              "      <th>producer_id</th>\n",
              "      <th>product_category_x</th>\n",
              "      <th>product_niche_x</th>\n",
              "      <th>purchase_device_x</th>\n",
              "      <th>purchase_value_%_x</th>\n",
              "      <th>num_sales_x</th>\n",
              "      <th>sales%_x</th>\n",
              "      <th>revenue_x</th>\n",
              "      <th>revenue%_x</th>\n",
              "      <th>product_category_y</th>\n",
              "      <th>product_niche_y</th>\n",
              "      <th>purchase_device_y</th>\n",
              "      <th>purchase_value_%_y</th>\n",
              "      <th>num_sales_y</th>\n",
              "      <th>sales%_y</th>\n",
              "      <th>revenue_y</th>\n",
              "      <th>revenue%_y</th>\n",
              "    </tr>\n",
              "  </thead>\n",
              "  <tbody>\n",
              "    <tr>\n",
              "      <th>0</th>\n",
              "      <td>3992235</td>\n",
              "      <td>Phisical book</td>\n",
              "      <td>Immigration</td>\n",
              "      <td>eReaders</td>\n",
              "      <td>0.002830</td>\n",
              "      <td>39331</td>\n",
              "      <td>2.458452</td>\n",
              "      <td>111.294576</td>\n",
              "      <td>1.769177</td>\n",
              "      <td>Phisical book</td>\n",
              "      <td>Immigration</td>\n",
              "      <td>eReaders</td>\n",
              "      <td>0.002830</td>\n",
              "      <td>39331</td>\n",
              "      <td>2.458452</td>\n",
              "      <td>111.294576</td>\n",
              "      <td>1.769177</td>\n",
              "    </tr>\n",
              "    <tr>\n",
              "      <th>1</th>\n",
              "      <td>349701</td>\n",
              "      <td>Phisical book</td>\n",
              "      <td>Anxiety management</td>\n",
              "      <td>Smart TV</td>\n",
              "      <td>0.003109</td>\n",
              "      <td>34568</td>\n",
              "      <td>2.160732</td>\n",
              "      <td>107.487906</td>\n",
              "      <td>1.708665</td>\n",
              "      <td>Phisical book</td>\n",
              "      <td>Anxiety management</td>\n",
              "      <td>Smart TV</td>\n",
              "      <td>0.003109</td>\n",
              "      <td>34568</td>\n",
              "      <td>2.160732</td>\n",
              "      <td>107.487906</td>\n",
              "      <td>1.708665</td>\n",
              "    </tr>\n",
              "  </tbody>\n",
              "</table>\n",
              "</div>"
            ],
            "text/plain": [
              "   producer_id product_category_x     product_niche_x purchase_device_x  \\\n",
              "0      3992235      Phisical book         Immigration          eReaders   \n",
              "1       349701      Phisical book  Anxiety management          Smart TV   \n",
              "\n",
              "   purchase_value_%_x  num_sales_x  sales%_x   revenue_x  revenue%_x  \\\n",
              "0            0.002830        39331  2.458452  111.294576    1.769177   \n",
              "1            0.003109        34568  2.160732  107.487906    1.708665   \n",
              "\n",
              "  product_category_y     product_niche_y purchase_device_y  \\\n",
              "0      Phisical book         Immigration          eReaders   \n",
              "1      Phisical book  Anxiety management          Smart TV   \n",
              "\n",
              "   purchase_value_%_y  num_sales_y  sales%_y   revenue_y  revenue%_y  \n",
              "0            0.002830        39331  2.458452  111.294576    1.769177  \n",
              "1            0.003109        34568  2.160732  107.487906    1.708665  "
            ]
          },
          "execution_count": 211,
          "metadata": {},
          "output_type": "execute_result"
        }
      ],
      "source": [
        "df_subset1.merge(df_subset2 , on='producer_id')"
      ]
    },
    {
      "cell_type": "markdown",
      "metadata": {
        "id": "afNqiTxXkaLA"
      },
      "source": [
        "Temos que 2 dos 10 produtores que mais vebdem na plataforma também são os produtos que mais geraram receitas. \n",
        "\n",
        "Agora vamos analisar a relevância de vendas dos produtores de conteúdo na Hotmart"
      ]
    },
    {
      "cell_type": "code",
      "execution_count": null,
      "metadata": {
        "id": "mOUCz4YAkaLA",
        "outputId": "852277b0-d7c4-4d8b-ac40-4f55c58cfea3"
      },
      "outputs": [
        {
          "name": "stdout",
          "output_type": "stream",
          "text": [
            "top 1 Sales  2.58 %\n",
            "top 10 Sales  17.61 %\n",
            "top 50 Sales  36.58 %\n",
            "top 100 Sales  48.55 %\n",
            "top 500 Sales  79.79 %\n",
            "top 1000 Sales  89.94 %\n",
            "\n",
            "top 1 Revenue  2.18 %\n",
            "top 10 Revenue  15.77 %\n",
            "top 50 Revenue  42.69 %\n",
            "top 100 Revenue  57.56 %\n",
            "top 500 Revenue  87.11 %\n",
            "top 1000 Revenue  94.43 %\n"
          ]
        }
      ],
      "source": [
        "values = [1, 10, 50, 100, 500, 1000]\n",
        "for value in values:\n",
        "    x = df_subset['sales%'].sort_values(ascending=False).iloc[0:value].sum()\n",
        "    print(f'top {value} Sales {x: .2f} %')\n",
        "print()\n",
        "for value in values:    \n",
        "    y = df_subset['revenue%'].sort_values(ascending=False).iloc[0:value].sum()\n",
        "    print(f'top {value} Revenue {y: .2f} %')"
      ]
    },
    {
      "cell_type": "markdown",
      "metadata": {
        "id": "o7KidF_6kaLA"
      },
      "source": [
        "Dos resultados, podemos ver que os 10 dos produtores de conteúdo que mais deram lucros para a Hormat no ano de 2016 foram responsáveis por quase 15% de todo o lucro da empresa. Vemos também que 100 dos produtores de conteúdo que mais deram lucros, são responsáveis por quase 50% de todo o faturamento daquele ano. No quesito de quantidade de vendas, vemos que o padrão é muito parecido com a quantidade de lucro da empresa.\n",
        " \n",
        "Podemos concluir que o Hotmart depende dos maiores produtores da plataforma.\n",
        "\n"
      ]
    },
    {
      "cell_type": "markdown",
      "metadata": {
        "id": "zFCmWYyMkaLB"
      },
      "source": [
        "## 4. Análise de Séries Temporais\n",
        "\n",
        "Uma série temporal é uma sequência de pontos de dados obtidos em pontos sucessivos e igualmente espaçados no tempo que podem ser usados para prever o futuro. Um modelo de análise de séries temporais envolve o uso de dados históricos para prever o futuro. Ele procura no conjunto de dados recursos como tendências, flutuações cíclicas, sazonalidade e padrões comportamentais.\n",
        " \n",
        "As três principais ideias gerais que são fundamentais a serem consideradas, ao lidar com um problema de previsão de vendas abordado a partir de uma perspectiva de série temporal, são:\n",
        " \n",
        " * Padrões de repetição\n",
        " * Padrões estáticos\n",
        " * Tendências"
      ]
    },
    {
      "cell_type": "markdown",
      "metadata": {
        "id": "XhKV4CpTkaLD"
      },
      "source": [
        "### Há épocas do ano em que uma determinada categoria ou nicho de produto vende mais?"
      ]
    },
    {
      "cell_type": "code",
      "execution_count": null,
      "metadata": {
        "id": "qWi8VIQskaLD",
        "outputId": "fa7fd9a2-ba9c-48c7-c514-69b4b04994ae"
      },
      "outputs": [
        {
          "data": {
            "image/png": "[encoded data removed]",
            "text/plain": [
              "<Figure size 720x432 with 1 Axes>"
            ]
          },
          "metadata": {},
          "output_type": "display_data"
        }
      ],
      "source": [
        "df['month'] = pd.to_datetime(df['purchase_date']).dt.month\n",
        "results1 = df.groupby(['month'])['product_id'].count()\n",
        "months = [month for month, df in df.groupby('month')]\n",
        "\n",
        "fig = plt.figure(figsize=(10,6))\n",
        "plt.bar(months, results1)\n",
        "plt.xticks(months)\n",
        "plt.xlabel('Months')\n",
        "plt.ylabel('Number of Orders');"
      ]
    },
    {
      "cell_type": "code",
      "execution_count": null,
      "metadata": {
        "id": "RQlg0xdLkaLE",
        "outputId": "68e7321b-73ba-44bd-ad97-daf9335b6124"
      },
      "outputs": [
        {
          "data": {
            "image/png": "[encoded data removed]",
            "text/plain": [
              "<Figure size 1440x360 with 1 Axes>"
            ]
          },
          "metadata": {},
          "output_type": "display_data"
        }
      ],
      "source": [
        "meses = df.groupby(['product_category', 'month'])[['product_id']].count()\n",
        "y = np.log(meses.reset_index()['product_id'])\n",
        "hue = meses.reset_index()['month']\n",
        "x = meses.reset_index()['product_category']\n",
        "\n",
        "fig = plt.figure(figsize=(20,5))\n",
        "g=sns.barplot(x=x, y=y,hue=hue, data=meses).set_title(\"Log Proportion of sales\")"
      ]
    },
    {
      "cell_type": "code",
      "execution_count": null,
      "metadata": {
        "id": "gura1z3wkaLE",
        "outputId": "7ef49d23-43ca-4abe-a77c-29714398048f"
      },
      "outputs": [
        {
          "data": {
            "image/png": "[encoded data removed]",
            "text/plain": [
              "<Figure size 2880x360 with 1 Axes>"
            ]
          },
          "metadata": {},
          "output_type": "display_data"
        }
      ],
      "source": [
        "meses = df.groupby(['product_niche', 'month'])[['product_id']].count()\n",
        "y = np.log(meses.reset_index()['product_id'])\n",
        "hue = meses.reset_index()['month']\n",
        "x = meses.reset_index()['product_niche']\n",
        "\n",
        "fig = plt.figure(figsize=(40,5))\n",
        "g=sns.barplot(x=x, y=y,hue=hue, data=meses).set_title(\"Log Proportion of sales\")"
      ]
    },
    {
      "cell_type": "markdown",
      "metadata": {
        "id": "D0IUbKltkaLD"
      },
      "source": [
        "### A que horas devemos exibir anúncios para maximizar a probabilidade de compra do produto pelo cliente?"
      ]
    },
    {
      "cell_type": "code",
      "execution_count": null,
      "metadata": {
        "id": "nqrgXJJ5kaLD"
      },
      "outputs": [],
      "source": [
        "df['hour'] = pd.to_datetime(df['purchase_date']).dt.hour"
      ]
    },
    {
      "cell_type": "code",
      "execution_count": null,
      "metadata": {
        "id": "tbNYdsGkkaLD",
        "outputId": "3ac8b4ea-7244-44cf-ad2d-9456b307836e"
      },
      "outputs": [
        {
          "data": {
            "image/png": "[encoded data removed]",
            "text/plain": [
              "<Figure size 720x432 with 1 Axes>"
            ]
          },
          "metadata": {},
          "output_type": "display_data"
        }
      ],
      "source": [
        "results = df.groupby(['hour'])['product_id'].count()\n",
        "hours = [hour for hour, df in df.groupby('hour')]\n",
        "\n",
        "fig = plt.figure(figsize=(10,6))\n",
        "sns.lineplot(hours, results)\n",
        "plt.xticks(hours)\n",
        "plt.xlabel('Hours')\n",
        "plt.ylabel('Number of Orders');"
      ]
    },
    {
      "cell_type": "markdown",
      "metadata": {
        "id": "MRL61C_QkaLD"
      },
      "source": [
        "Como você pode ver na Figura, existem aproximadamente 2 picos nos dados. São das 10h às 11h e um menor às 21h . Faz sentido, já que a maioria das pessoas faz compras durante o dia. A partir desses dados, podemos sugerir ao nosso parceiro comercial que anuncie seu produto antes das 12h e/ou 19h. Pode ser 9h30 e/ou 20h30."
      ]
    },
    {
      "cell_type": "markdown",
      "source": [
        "### Análise de Predições\n",
        "\n",
        "#### Padrões de Repetição\n",
        " \n",
        "Vamos começar analisando a série temporal por quantidade de vendas e lucros e procurar se existem padrões de repetição."
      ],
      "metadata": {
        "id": "U2ZzOlhclEZu"
      }
    },
    {
      "cell_type": "code",
      "execution_count": 1,
      "metadata": {
        "colab": {
          "base_uri": "https://localhost:8080/",
          "height": 201
        },
        "id": "3_1WX5xtkaLB",
        "outputId": "bcd3548d-40ea-40ee-85aa-b0012266803d"
      },
      "outputs": [
        {
          "output_type": "error",
          "ename": "NameError",
          "evalue": "ignored",
          "traceback": [
            "\u001b[0;31m---------------------------------------------------------------------------\u001b[0m",
            "\u001b[0;31mNameError\u001b[0m                                 Traceback (most recent call last)",
            "\u001b[0;32m<ipython-input-1-0d0d8e0ce5ac>\u001b[0m in \u001b[0;36m<module>\u001b[0;34m()\u001b[0m\n\u001b[0;32m----> 1\u001b[0;31m \u001b[0mdf\u001b[0m\u001b[0;34m[\u001b[0m\u001b[0;34m'date'\u001b[0m\u001b[0;34m]\u001b[0m \u001b[0;34m=\u001b[0m \u001b[0mpd\u001b[0m\u001b[0;34m.\u001b[0m\u001b[0mto_datetime\u001b[0m\u001b[0;34m(\u001b[0m\u001b[0mdf\u001b[0m\u001b[0;34m[\u001b[0m\u001b[0;34m'purchase_date'\u001b[0m\u001b[0;34m]\u001b[0m\u001b[0;34m)\u001b[0m\u001b[0;34m.\u001b[0m\u001b[0mdt\u001b[0m\u001b[0;34m.\u001b[0m\u001b[0mdate\u001b[0m\u001b[0;34m\u001b[0m\u001b[0;34m\u001b[0m\u001b[0m\n\u001b[0m\u001b[1;32m      2\u001b[0m \u001b[0mdf_sales_sum\u001b[0m \u001b[0;34m=\u001b[0m \u001b[0mdf\u001b[0m\u001b[0;34m.\u001b[0m\u001b[0mgroupby\u001b[0m\u001b[0;34m(\u001b[0m\u001b[0mby\u001b[0m\u001b[0;34m=\u001b[0m\u001b[0;34m[\u001b[0m\u001b[0;34m'date'\u001b[0m\u001b[0;34m]\u001b[0m\u001b[0;34m,\u001b[0m \u001b[0mas_index\u001b[0m\u001b[0;34m=\u001b[0m\u001b[0;32mFalse\u001b[0m\u001b[0;34m)\u001b[0m\u001b[0;34m[\u001b[0m\u001b[0;34m'date'\u001b[0m\u001b[0;34m]\u001b[0m\u001b[0;34m.\u001b[0m\u001b[0mvalue_counts\u001b[0m\u001b[0;34m(\u001b[0m\u001b[0;34m)\u001b[0m\u001b[0;34m\u001b[0m\u001b[0;34m\u001b[0m\u001b[0m\n\u001b[1;32m      3\u001b[0m \u001b[0mdf_sales_sum\u001b[0m\u001b[0;34m.\u001b[0m\u001b[0msort_values\u001b[0m\u001b[0;34m(\u001b[0m\u001b[0mby\u001b[0m\u001b[0;34m=\u001b[0m\u001b[0;34m'count'\u001b[0m\u001b[0;34m,\u001b[0m \u001b[0mascending\u001b[0m\u001b[0;34m=\u001b[0m\u001b[0;32mFalse\u001b[0m\u001b[0;34m)\u001b[0m\u001b[0;34m.\u001b[0m\u001b[0mhead\u001b[0m\u001b[0;34m(\u001b[0m\u001b[0;36m10\u001b[0m\u001b[0;34m)\u001b[0m\u001b[0;34m\u001b[0m\u001b[0;34m\u001b[0m\u001b[0m\n",
            "\u001b[0;31mNameError\u001b[0m: name 'pd' is not defined"
          ]
        }
      ],
      "source": [
        "df['date'] = pd.to_datetime(df['purchase_date']).dt.date\n",
        "df_sales_sum = df.groupby(by=['date'], as_index=False)['date'].value_counts()\n",
        "df_sales_sum.sort_values(by='count', ascending=False).head(10)"
      ]
    },
    {
      "cell_type": "code",
      "execution_count": null,
      "metadata": {
        "id": "qA7h0EvOkaLB"
      },
      "outputs": [],
      "source": [
        "fig = plt.figure(figsize=(20,6))\n",
        "ax1 = fig.add_subplot(121)\n",
        "df_sales_sum.plot(x=\"date\",y=\"count\",color=\"g\",ax=ax1, fontsize=15)\n",
        "plt.xlabel(\"Date\",fontsize=15)\n",
        "plt.title(\"Total Sales Volume\", fontsize=15)\n",
        "plt.ylabel(\"Sales\", fontsize=15)\n",
        "\n",
        "\n",
        "ax2 = fig.add_subplot(122)\n",
        "plot_acf(df_sales_sum['count'],ax=ax2)\n",
        "plt.title(\"Autocorrelation\", fontsize=15)\n",
        "plt.xlabel(\"Lag\",fontsize=15)\n",
        "plt.ylabel(\"Correlation\", fontsize=15)\n",
        "plt.show()"
      ]
    },
    {
      "cell_type": "markdown",
      "metadata": {
        "id": "TfoZo8eikaLB"
      },
      "source": [
        "Da tabela e do gráfico podemos ver que o dia que mais teve movimentação foi no dia 2 de maio com quase o dobro das próximas datas do top 10. Olhando somente os dados fornecidos não há muito de especial para explicar esse fato. Olhando o top 10 de maiores transações na plataforma, notamos que outras datas em maio também tiveram grande volume de vendas.\n",
        " \n",
        "Analisando o gráfico de autocorrelação, vemos alguns pontos de correlação relativamente alta em lag 2 e 7. A falta de uma estrutura bem definida é resultado das contingências de vendas: dado o número de fatos que entram na previsão de vendas, não devemos esperar que os dados tenham correlações perfeitamente claras como em um conjunto de dados meteorológicos, por exemplo. No entanto, é interessante observar picos de correlação que podem estar associados a fatores relacionados ao tipo de produto envolvido.\n"
      ]
    },
    {
      "cell_type": "code",
      "execution_count": null,
      "metadata": {
        "id": "M0W0GLbekaLB"
      },
      "outputs": [],
      "source": [
        "df_revenue_sum = df.groupby(by=['date'], as_index=False)['purchase_value_%'].sum()\n",
        "df_revenue_sum.sort_values(by='purchase_value_%', ascending=False).head(10)"
      ]
    },
    {
      "cell_type": "code",
      "execution_count": null,
      "metadata": {
        "id": "XWjjvR7bkaLB"
      },
      "outputs": [],
      "source": [
        "fig = plt.figure(figsize=(20,6))\n",
        "ax1 = fig.add_subplot(121)\n",
        "\n",
        "df_revenue_sum.plot(x=\"date\",y=\"purchase_value_%\",color=\"g\",ax=ax1, fontsize=15)\n",
        "plt.xlabel(\"Date\",fontsize=15)\n",
        "plt.title(\"Total revenue Volume\", fontsize=15)\n",
        "plt.ylabel(\"Revenue\", fontsize=15)\n",
        "\n",
        "\n",
        "ax2 = fig.add_subplot(122)\n",
        "plot_acf(df_revenue_sum['purchase_value_%'],ax=ax2)\n",
        "plt.title(\"Autocorrelation\", fontsize=15)\n",
        "plt.xlabel(\"Lag\",fontsize=15)\n",
        "plt.ylabel(\"Correlation\", fontsize=15)\n",
        "plt.show()"
      ]
    },
    {
      "cell_type": "markdown",
      "metadata": {
        "id": "DqgF8mHBkaLB"
      },
      "source": [
        "Já em relação ao lucro, podemos ver da tabela e gráfico que os maiores lucros ocorreram no mês de março e junho. Podemos ver também que o gráfico de autocorrelação tem um padrão muito parecido com o de quantidade de vendas."
      ]
    },
    {
      "cell_type": "code",
      "execution_count": null,
      "metadata": {
        "id": "CpodCdxhkaLC"
      },
      "outputs": [],
      "source": [
        "from statsmodels.tsa.stattools import adfuller \n",
        "\n",
        "adf_test_sales = adfuller(list(df_sales_sum[\"count\"])) \n",
        "\n",
        "adf_test_revenue = adfuller(list(df_revenue_sum[\"purchase_value_%\"])) \n",
        "\n",
        "print(\"Resultados de vendas:\") \n",
        "print(\"ADF = \" + str(adf_test_sales[0 ])) \n",
        "print(\"p-value = \" +str(adf_test_sales[1]))\n",
        "\n",
        "print(\"Resultados de Lucros:\") \n",
        "print(\" ADF = \" + str(adf_test_revenue[0])) \n",
        "print(\"p-value = \" +str(adf_test_revenue[1])) "
      ]
    },
    {
      "cell_type": "markdown",
      "metadata": {
        "id": "YXEkxGd6kaLC"
      },
      "source": [
        "Podemos ver dos testes que o valor p indica uma confiança não significativa de que os dados seriam estacionários"
      ]
    },
    {
      "cell_type": "markdown",
      "metadata": {
        "id": "cvZTwX03kaLC"
      },
      "source": [
        "#### Média móvel\n",
        "\n",
        "Este modelo assume que a próxima observação é a média de todas as observações anteriores e pode ser usado para identificar tendências interessantes nos dados. Podemos definir uma janela para aplicar o modelo de média móvel para suavizar a série temporal e destacar diferentes tendências."
      ]
    },
    {
      "cell_type": "code",
      "execution_count": null,
      "metadata": {
        "id": "NBwFrg72kaLC",
        "outputId": "3694b4ce-517b-44d5-8856-d233abcb28b4"
      },
      "outputs": [
        {
          "data": {
            "image/png": "[encoded data removed]",
            "text/plain": [
              "<Figure size 1224x576 with 1 Axes>"
            ]
          },
          "metadata": {
            "needs_background": "light"
          },
          "output_type": "display_data"
        }
      ],
      "source": [
        "from sklearn.metrics import mean_absolute_error\n",
        "\n",
        "green = sns.color_palette(\"deep\", 8)[2]\n",
        "blue = sns.color_palette(\"deep\", 8)[0]\n",
        "\n",
        "series = df_sales_sum['count']\n",
        "window=15\n",
        "\n",
        "rolling_mean = series.rolling(window=window).mean()\n",
        "fig,ax = plt.subplots(figsize=(17,8))\n",
        "\n",
        "\n",
        "plt.title('Moving Average Model for Retail Sales',fontsize=15)\n",
        "\n",
        "plt.plot(rolling_mean, color=green, label='Rolling mean trend')\n",
        "\n",
        "#Plot confidence intervals for smoothed values\n",
        "mae = mean_absolute_error(series[window:], rolling_mean[window:])\n",
        "deviation = np.std(series[window:] - rolling_mean[window:])\n",
        "lower_bound = rolling_mean - (mae + 1.92 * deviation)\n",
        "upper_bound = rolling_mean + (mae + 1.92 * deviation)\n",
        "\n",
        "plt.plot(upper_bound, 'r--', label='Upper bound / Lower bound')\n",
        "plt.plot(lower_bound, 'r--')\n",
        "\n",
        "plt.plot(series[window:], color=blue,label='Actual values')\n",
        "\n",
        "\n",
        "plt.legend(loc='best')\n",
        "plt.grid(True)\n",
        "plt.xticks([])\n",
        "plt.show()"
      ]
    },
    {
      "cell_type": "markdown",
      "metadata": {
        "id": "7vHiJFx3kaLC"
      },
      "source": [
        "Para o conjunto de dados de vendas, o ajuste não parece tão promissor. Além disso, o parâmetro de janela que define o tamanho de nossa média tem um grande efeito em nosso desempenho geral e não foi feito nenhum ajuste de hiperparâmetro adicional. Aqui, o que devemos levar em consideração é que conjuntos de dados de vendas complexos exigirão mais informações do que uma simples série temporal unidimensional pode fornecer."
      ]
    },
    {
      "cell_type": "markdown",
      "metadata": {
        "id": "wtwY6x3vkaLC"
      },
      "source": [
        " #### Arima\n",
        "ARIMA ou Auto-regressive Integrated Moving Average é um modelo de séries temporais que visa descrever as autocorrelações nos dados de séries temporais. Funciona bem para previsões de curto prazo e pode ser útil para fornecer valores previstos para períodos especificados pelo usuário, mostrando bons resultados para demanda, vendas, planejamento e produção.\n",
        "\n",
        "Os parâmetros do modelo ARIMA são definidos da seguinte forma:\n",
        "\n",
        "* p: O número de observações de atraso incluídas no modelo\n",
        "* d: O número de vezes que as observações brutas são diferenciadas\n",
        "* q: O tamanho da janela de média móvel"
      ]
    },
    {
      "cell_type": "code",
      "execution_count": null,
      "metadata": {
        "id": "z_YIpMmqkaLD",
        "outputId": "98391fbf-f6ab-43a2-9826-5231771d614e"
      },
      "outputs": [
        {
          "name": "stdout",
          "output_type": "stream",
          "text": [
            "MSE error: 7473419.795985948\n"
          ]
        },
        {
          "data": {
            "image/png": "[encoded data removed]",
            "text/plain": [
              "<Figure size 1224x576 with 1 Axes>"
            ]
          },
          "metadata": {},
          "output_type": "display_data"
        }
      ],
      "source": [
        "from statsmodels.tsa.arima.model import ARIMA\n",
        "from sklearn.metrics import mean_squared_error\n",
        "import pandas as pd\n",
        "\n",
        "import matplotlib.pyplot as plt\n",
        "import seaborn as sns\n",
        "sns.set()\n",
        "\n",
        "\n",
        "\n",
        "X = df_sales_sum['count'].values\n",
        "\n",
        "split = int(0.66*len(X))\n",
        "train, test = X[0:split], X[split:]\n",
        "\n",
        "history = [x for x in train]\n",
        "predictions = []\n",
        "for t in range(len(test)):\n",
        "\tmodel = ARIMA(history, order=(5,1,0))\n",
        "\tmodel_fit = model.fit()\n",
        "\toutput = model_fit.forecast()\n",
        "\tyhat = output[0]\n",
        "\tpredictions.append(yhat)\n",
        "    \n",
        "\tobs = test[t]\n",
        "\thistory.append(obs)\n",
        "mse = mean_squared_error(test, predictions)\n",
        "\n",
        "print(f\"MSE error: {mse}\")\n",
        "\n",
        "plt.figure(figsize=(17,8))\n",
        "plt.plot(test)\n",
        "plt.plot(predictions, color='red')\n",
        "plt.title(\"ARIMA fit to Sales Data\",fontsize=15)\n",
        "plt.xticks([])\n",
        "plt.show()"
      ]
    },
    {
      "cell_type": "markdown",
      "metadata": {
        "id": "sZhRVDvnkaLD"
      },
      "source": [
        "Podemos ver que tivemos um resultado muito ruim com o MSE bem alto.\n",
        "Vamos apenas lembrar que os resultados aqui são apenas para mostrar os modelos e não representam uma estimativa precisa. Os conjuntos de dados são limitados (o conjunto de dados de vendas após a soma é menor que 200 pontos de dados) e não foi realizado nenhum ajuste de hiperparâmetro complexo. O objetivo aqui foi apenas demonstrar como esses modelos funcionam e como eles podem ser implementados. Podemos verificar que o conjunto de dados de vendas parece apresentar desafios que os modelos tradicionais não conseguem superar.\n",
        "\n",
        "Podemos ver que, para conjuntos de dados que possuem um padrão claro, os modelos tradicionais funcionam bem. No entanto, na ausência de tal estrutura, esses modelos não parecem apresentar flexibilidade para se adaptar, pois dependem de fortes suposições sobre a dinâmica da série temporal alvo."
      ]
    }
  ],
  "metadata": {
    "colab": {
      "name": "hotmart.ipynb",
      "provenance": []
    },
    "kernelspec": {
      "display_name": "Python 3.9.12 ('base')",
      "language": "python",
      "name": "python3"
    },
    "language_info": {
      "codemirror_mode": {
        "name": "ipython",
        "version": 3
      },
      "file_extension": ".py",
      "mimetype": "text/x-python",
      "name": "python",
      "nbconvert_exporter": "python",
      "pygments_lexer": "ipython3",
      "version": "3.9.12"
    },
    "vscode": {
      "interpreter": {
        "hash": "5e8c03361d51ea297a904a747262448c3ce723e881811895dfdbcc412e3247a1"
      }
    }
  },
  "nbformat": 4,
  "nbformat_minor": 0
}